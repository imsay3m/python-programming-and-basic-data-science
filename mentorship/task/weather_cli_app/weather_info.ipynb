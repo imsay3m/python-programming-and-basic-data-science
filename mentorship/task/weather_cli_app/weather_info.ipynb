{
 "cells": [
  {
   "cell_type": "code",
   "execution_count": null,
   "metadata": {},
   "outputs": [],
   "source": [
    "%pip install requests\n",
    "%pip install django-environ"
   ]
  },
  {
   "cell_type": "code",
   "execution_count": 6,
   "metadata": {},
   "outputs": [],
   "source": [
    "import environ\n",
    "import requests\n",
    "import time\n",
    "\n",
    "env = environ.Env()\n",
    "environ.Env.read_env('.env')\n",
    "\n",
    "OPENCAGE_API_KEY = env(\"OPENCAGE_KEY\")\n",
    "OPENWEATHER_API_KEY = env(\"OPENWEATHER_KEY\")"
   ]
  },
  {
   "cell_type": "code",
   "execution_count": 8,
   "metadata": {},
   "outputs": [
    {
     "name": "stdout",
     "output_type": "stream",
     "text": [
      "Time taken to get latitude and longitude: 1.73 seconds\n",
      "Time taken to get weather data: 0.87 seconds\n",
      "Weather: Few Clouds\n",
      "Temperature: 28.11°C\n",
      "Feels Like: 32.38°C\n",
      "Humidity: 80%\n",
      "Minimum Temperature: 28.11°C\n",
      "Maximum Temperature: 28.11°C\n",
      "Wind Speed: 2.46m/s\n"
     ]
    }
   ],
   "source": [
    "def get_latitude_longitude(city):\n",
    "    try:\n",
    "        start_time = time.time()\n",
    "        response = requests.get(\n",
    "            f\"https://api.opencagedata.com/geocode/v1/json?q={city}&key={OPENCAGE_API_KEY}\"\n",
    "        )\n",
    "        # response.raise_for_status()\n",
    "        end_time = time.time()\n",
    "        print(\n",
    "            f\"Time taken to get latitude and longitude: {end_time - start_time:.2f} seconds\"\n",
    "        )\n",
    "        data = response.json()\n",
    "        # print(data)\n",
    "\n",
    "        if data[\"results\"]:\n",
    "            lat = data[\"results\"][0][\"geometry\"][\"lat\"]\n",
    "            lon = data[\"results\"][0][\"geometry\"][\"lng\"]\n",
    "            return lat, lon\n",
    "        else:\n",
    "            print(\"City not found!\")\n",
    "            return None, None\n",
    "    except requests.exceptions.Timeout:\n",
    "        print(f\"Timeout error: {requests.exceptions.Timeout}\")\n",
    "    except requests.exceptions.RequestException:\n",
    "        print(f\"Error occurred: {requests.exceptions.RequestException}\")\n",
    "    return None, None\n",
    "\n",
    "\n",
    "def get_current_weather(lat, lon):\n",
    "    try:\n",
    "        start_time = time.time()\n",
    "        response = requests.get(\n",
    "            f\"https://api.openweathermap.org/data/2.5/weather?lat={lat}&lon={lon}&appid={OPENWEATHER_API_KEY}&units=metric\"\n",
    "        )\n",
    "        # response.raise_for_status()\n",
    "        end_time = time.time()\n",
    "        print(f\"Time taken to get weather data: {end_time - start_time:.2f} seconds\")\n",
    "        data = response.json()\n",
    "        # print(data)\n",
    "\n",
    "        if data:\n",
    "            weather_description = data[\"weather\"][0][\"description\"].title()\n",
    "            temperature = data[\"main\"][\"temp\"]\n",
    "            feels_like = data[\"main\"][\"feels_like\"]\n",
    "            humidity = data[\"main\"][\"humidity\"]\n",
    "            min_temperature = data[\"main\"][\"temp_min\"]\n",
    "            max_temperature = data[\"main\"][\"temp_max\"]\n",
    "            wind_speed = data[\"wind\"][\"speed\"]\n",
    "\n",
    "            print(\n",
    "                f\"Weather: {weather_description}\\n\"\n",
    "                f\"Temperature: {temperature}°C\\n\"\n",
    "                f\"Feels Like: {feels_like}°C\\n\"\n",
    "                f\"Humidity: {humidity}%\\n\"\n",
    "                f\"Minimum Temperature: {min_temperature}°C\\n\"\n",
    "                f\"Maximum Temperature: {max_temperature}°C\\n\"\n",
    "                f\"Wind Speed: {wind_speed}m/s\"\n",
    "            )\n",
    "        else:\n",
    "            print(\"Weather data not found!\")\n",
    "    except requests.exceptions.RequestException:\n",
    "        print(f\"Error occurred: {requests.exceptions.RequestException}\")\n",
    "    except requests.exceptions.Timeout:\n",
    "        print(f\"Timeout error: {requests.exceptions.Timeout}\")\n",
    "\n",
    "\n",
    "city = input(\"Enter city name: \")\n",
    "lat, lon = get_latitude_longitude(city)\n",
    "\n",
    "if lat is not None and lon is not None:\n",
    "    get_current_weather(lat, lon)\n",
    "else:\n",
    "    print(\"Unable to retrieve latitude and longitude for the city.\")"
   ]
  }
 ],
 "metadata": {
  "kernelspec": {
   "display_name": "Python 3",
   "language": "python",
   "name": "python3"
  },
  "language_info": {
   "codemirror_mode": {
    "name": "ipython",
    "version": 3
   },
   "file_extension": ".py",
   "mimetype": "text/x-python",
   "name": "python",
   "nbconvert_exporter": "python",
   "pygments_lexer": "ipython3",
   "version": "3.12.0"
  }
 },
 "nbformat": 4,
 "nbformat_minor": 2
}
