{
 "cells": [
  {
   "cell_type": "code",
   "execution_count": 7,
   "metadata": {},
   "outputs": [
    {
     "name": "stdout",
     "output_type": "stream",
     "text": [
      "['Female-75 :-Survived', 'Female-45 :-Survived', 'Female-15 :-Survived', 'Male-1 :-Survived', 'Male-45 :-Died', 'Male-4 :-Survived']\n"
     ]
    }
   ],
   "source": [
    "# Titanic Preview Women and Children first\n",
    "\n",
    "gender = [\"Female\", \"Female\", \"Female\", \"Male\", \"Male\", \"Male\"]\n",
    "age = [75, 45, 15, 1, 45, 4]\n",
    "name = [\n",
    "    \"Ms. Sally White\",\n",
    "    \"Mrs. Susan King\",\n",
    "    \"Amanda Russ\",\n",
    "    \"Rev. John Smith\",\n",
    "    \"Jilany\",\n",
    "    \"Selim\",\n",
    "]\n",
    "survived = []\n",
    "for i in range(len(gender)):\n",
    "    # This is encoding a simple model that women survived.\n",
    "    if gender[i] == \"Female\" or age[i] <= 10:\n",
    "        survived.append(f\"{name}-{gender[i]}-{age[i]} :-Survived\")\n",
    "    else:\n",
    "        survived.append(f\"{name}-{gender[i]}-{age[i]} :-Died\")\n",
    "print(survived)"
   ]
  },
  {
   "cell_type": "code",
   "execution_count": 17,
   "metadata": {},
   "outputs": [
    {
     "name": "stdout",
     "output_type": "stream",
     "text": [
      "{'Ms. Sally White': 'Female-75(Survived)', 'Mrs. Susan King': 'Female-45(Survived)', 'Amanda Russ': 'Female-15(Survived)', 'Rev. John Smith': 'Male-1(Survived)', 'Jilany': 'Male-45:-(Died)', 'Selim': 'Male-4(Survived)'}\n"
     ]
    }
   ],
   "source": [
    "# Titanic Preview Women and Children first\n",
    "\n",
    "gender = [\"Female\", \"Female\", \"Female\", \"Male\", \"Male\", \"Male\"]\n",
    "age = [75, 45, 15, 1, 45, 4]\n",
    "name = [\n",
    "    \"Ms. Sally White\",\n",
    "    \"Mrs. Susan King\",\n",
    "    \"Amanda Russ\",\n",
    "    \"Rev. John Smith\",\n",
    "    \"Jilany\",\n",
    "    \"Selim\",\n",
    "]\n",
    "survived = {}\n",
    "for i in range(len(gender)):\n",
    "    # This is encoding a simple model that women survived.\n",
    "    if gender[i] == \"Female\" or age[i] <= 10:\n",
    "        survived[name[i]] = f\"{gender[i]}-{age[i]}(Survived)\"\n",
    "    else:\n",
    "        survived[name[i]] = f\"{gender[i]}-{age[i]}:-(Died)\"\n",
    "print(survived)"
   ]
  },
  {
   "cell_type": "code",
   "execution_count": 16,
   "metadata": {},
   "outputs": [
    {
     "data": {
      "text/plain": [
       "{'Survived': ['Ms. Sally White-Female-75',\n",
       "  'Mrs. Susan King-Female-45',\n",
       "  'Amanda Russ-Female-15',\n",
       "  'Rev. John Smith-Male-1',\n",
       "  'Selim-Male-4'],\n",
       " 'Died': ['Jilany-Male-45']}"
      ]
     },
     "execution_count": 16,
     "metadata": {},
     "output_type": "execute_result"
    }
   ],
   "source": [
    "# Titanic Preview Women and Children first\n",
    "\n",
    "gender = [\"Female\", \"Female\", \"Female\", \"Male\", \"Male\", \"Male\"]\n",
    "age = [75, 45, 15, 1, 45, 4]\n",
    "name = [\n",
    "    \"Ms. Sally White\",\n",
    "    \"Mrs. Susan King\",\n",
    "    \"Amanda Russ\",\n",
    "    \"Rev. John Smith\",\n",
    "    \"Jilany\",\n",
    "    \"Selim\",\n",
    "]\n",
    "survived = {}\n",
    "survived[\"Survived\"]=[]\n",
    "survived[\"Died\"]=[]\n",
    "for i in range(len(gender)):\n",
    "    if gender[i]=='Female' or age[i]<=10:\n",
    "        survived[\"Survived\"].append(f\"{name[i]}-{gender[i]}-{age[i]}\")\n",
    "    else:\n",
    "        survived[\"Died\"].append(f\"{name[i]}-{gender[i]}-{age[i]}\")\n",
    "# print(survived)\n",
    "survived"
   ]
  }
 ],
 "metadata": {
  "kernelspec": {
   "display_name": "Python 3",
   "language": "python",
   "name": "python3"
  },
  "language_info": {
   "codemirror_mode": {
    "name": "ipython",
    "version": 3
   },
   "file_extension": ".py",
   "mimetype": "text/x-python",
   "name": "python",
   "nbconvert_exporter": "python",
   "pygments_lexer": "ipython3",
   "version": "3.12.0"
  }
 },
 "nbformat": 4,
 "nbformat_minor": 2
}
