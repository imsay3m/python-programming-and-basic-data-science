{
  "nbformat": 4,
  "nbformat_minor": 0,
  "metadata": {
    "colab": {
      "provenance": []
    },
    "kernelspec": {
      "name": "python3",
      "display_name": "Python 3"
    },
    "language_info": {
      "name": "python"
    }
  },
  "cells": [
    {
      "cell_type": "code",
      "execution_count": null,
      "metadata": {
        "id": "-Xx4k3vqm-I-",
        "colab": {
          "base_uri": "https://localhost:8080/",
          "height": 35
        },
        "outputId": "bf1137ef-c2d8-4ad0-c27d-a0689149d322"
      },
      "outputs": [
        {
          "output_type": "display_data",
          "data": {
            "text/plain": [
              "<Figure size 640x480 with 0 Axes>"
            ]
          },
          "metadata": {}
        }
      ],
      "source": [
        "import numpy as np\n",
        "import pandas as pd\n",
        "import matplotlib.pyplot as plt\n",
        "fig = plt.figure()\n"
      ]
    },
    {
      "cell_type": "markdown",
      "source": [
        "#Short Questions (1 Mark)\n"
      ],
      "metadata": {
        "id": "QQf-IaYBvMHY"
      }
    },
    {
      "cell_type": "markdown",
      "source": [
        "1. Create a DataFrame from a dictionary with two columns, 'Name' and 'Age', where 'Name' contains [\"Alice\", \"Bob\"] and 'Age' contains [25, 30].\n",
        "\n",
        "  ans: df = pd.DataFrame({\n",
        "    'Name':['Alice', 'Bob'],\n",
        "    'Age':[25, 30]\n",
        "    })\n"
      ],
      "metadata": {
        "id": "0HPqv_r9vSbC"
      }
    },
    {
      "cell_type": "markdown",
      "source": [
        "2. What function would you use to display the first five rows of a DataFrame, and why is it useful?\n",
        "\n",
        "  ans: df.head()"
      ],
      "metadata": {
        "id": "MlTd2BsCuEas"
      }
    },
    {
      "cell_type": "markdown",
      "source": [
        "3. How can you check for missing values in a DataFrame?\n",
        "\n",
        "  ans: df.isnull()"
      ],
      "metadata": {
        "id": "gZLCaIMUueH7"
      }
    },
    {
      "cell_type": "markdown",
      "source": [
        "4. Describe how to filter rows in a DataFrame based on a condition in one of its columns.\n",
        "\n",
        "  ans: filtered_df = df[df['Age'] > 25]"
      ],
      "metadata": {
        "id": "tlU0j2IKu6uM"
      }
    },
    {
      "cell_type": "markdown",
      "source": [
        "5. What method would you use to remove duplicate rows in a DataFrame?\n",
        "\n",
        "  ans: df.drop_duplicates()"
      ],
      "metadata": {
        "id": "OH_agBW4u9aL"
      }
    },
    {
      "cell_type": "markdown",
      "source": [
        "6. What is the purpose of the merge function in Pandas?\n",
        "\n",
        "  ans: Joining dataframes based on the common columns."
      ],
      "metadata": {
        "id": "aw7iE1lZuoZk"
      }
    },
    {
      "cell_type": "markdown",
      "source": [
        "7. How can you sort a DataFrame by multiple columns?\n",
        "\n",
        "  ans: using df.sort_values(by=['col1_name','col2_name']) command."
      ],
      "metadata": {
        "id": "uwpO3oFpva8s"
      }
    },
    {
      "cell_type": "markdown",
      "source": [
        "8. How do Pandas represent missing data in numeric and non-numeric data types?\n",
        "\n",
        "  ans:\n",
        "\n",
        "      numeric: np.nan (not a number)\n",
        "  \n",
        "      non-numeric: None"
      ],
      "metadata": {
        "id": "JiFNgFeXwJtX"
      }
    },
    {
      "cell_type": "markdown",
      "source": [
        "9. Provide a code to check for missing values in each column of a DataFrame.\n",
        "\n",
        "  ans: df.isnull().sum()"
      ],
      "metadata": {
        "id": "2S6UKtr1xBz9"
      }
    },
    {
      "cell_type": "markdown",
      "source": [
        "10. What does the fillna() function do, and why is it useful? Provide a code example.\n",
        "\n",
        "  ans: the fillna() function used to fill missing values in dataframe.\n",
        "\n",
        "  ex: df.fillna(0)"
      ],
      "metadata": {
        "id": "rWNS7ryOxfgO"
      }
    },
    {
      "cell_type": "markdown",
      "source": [
        "11.  Describe how the dropna() method works in Pandas.\n",
        "\n",
        "  ans: removes rows with missing values"
      ],
      "metadata": {
        "id": "p5u_IgPff1HD"
      }
    },
    {
      "cell_type": "markdown",
      "source": [
        "12. Describe 'ffill' or 'bfill' method.\n",
        "\n",
        "  ans: ffill : forward fill ,  bfill : backward fill"
      ],
      "metadata": {
        "id": "KluDYY-Gf1EA"
      }
    },
    {
      "cell_type": "markdown",
      "source": [
        "13. Write a code using Pandas to replace all NaN values in a DataFrame with zeros.\n",
        "\n",
        "  ans: df.fillna(0)"
      ],
      "metadata": {
        "id": "nD6OLR7xf1BT"
      }
    },
    {
      "cell_type": "markdown",
      "source": [
        "14. What is the purpose of the pd.concat() function in Pandas?\n",
        "\n",
        "  ans: concatenates multiple DataFrames along specified axis"
      ],
      "metadata": {
        "id": "G1yhV7tcf0-j"
      }
    },
    {
      "cell_type": "markdown",
      "source": [
        "15. How do you concatenate two DataFrames df1 and df2 along rows? Provide code.\n",
        "\n",
        "  ans: pd.concat([df1, df2], axis=0)"
      ],
      "metadata": {
        "id": "Q5U0lqfAf07z"
      }
    },
    {
      "cell_type": "markdown",
      "source": [
        "16. What parameter would you use in pd.concat() to ignore index values and create a new default integer index?\n",
        "  \n",
        "  ans: ignore_index = True"
      ],
      "metadata": {
        "id": "GkKJlyGUf05D"
      }
    },
    {
      "cell_type": "markdown",
      "source": [
        "17. Describe how to concatenate DataFrames df1 and df2 along columns.\n",
        "\n",
        "  ans: pd.concat([df1, df2], axis=1)"
      ],
      "metadata": {
        "id": "woYNmESkf0zU"
      }
    },
    {
      "cell_type": "markdown",
      "source": [
        "18. How can you perform an inner join using pd.concat()?\n",
        "\n",
        "  ans: pd.concat([df1, df2], join='inner')"
      ],
      "metadata": {
        "id": "H8S_xz51f0wU"
      }
    },
    {
      "cell_type": "markdown",
      "source": [
        "19. How would you merge two DataFrames, df1 and df2, based on a common column 'ID'?\n",
        "\n",
        "  ans: pd.merge(df1, df2, on='ID')"
      ],
      "metadata": {
        "id": "UMVIHW-nf0tU"
      }
    },
    {
      "cell_type": "markdown",
      "source": [
        "20. What command is used to save a plot to a file in Matplotlib?\n",
        "\n",
        "  ans: plt.savefig('filename.png')"
      ],
      "metadata": {
        "id": "qYc8pCTaf0hj"
      }
    },
    {
      "cell_type": "markdown",
      "source": [
        "21. How can you save a plot as a PNG file named plot_image.png?\n",
        "\n",
        "  ans: plt.savefig('plot_image.png')"
      ],
      "metadata": {
        "id": "IQB4cbCvf0ej"
      }
    },
    {
      "cell_type": "markdown",
      "source": [
        "22. Which argument can you use in plt.savefig to save a plot with a transparent background?\n",
        "\n",
        "  ans: transparent = True"
      ],
      "metadata": {
        "id": "aCHq2Sn4f0Vd"
      }
    },
    {
      "cell_type": "markdown",
      "source": [
        "23. If you want to save a plot with a higher resolution, which parameter should you adjust in plt.savefig?\n",
        "\n",
        "  ans: dpi"
      ],
      "metadata": {
        "id": "6dt7TrzYfz-j"
      }
    },
    {
      "cell_type": "markdown",
      "source": [
        "24. Write the command to plot the points (1, 2), (2, 4), (3, 6) as a simple line plot.\n",
        "\n",
        "  ans: plt.plot([1,2,3],[2,4,6])"
      ],
      "metadata": {
        "id": "tKY-y0c7fz4b"
      }
    },
    {
      "cell_type": "markdown",
      "source": [
        "25. How can you display a line plot after plotting it with plt.plot()?\n",
        "\n",
        "  ans: plt.show()"
      ],
      "metadata": {
        "id": "jwCaSKdZfzw0"
      }
    },
    {
      "cell_type": "markdown",
      "source": [
        "26. What does the command plt.plot(x, y, 'o-') do differently from plt.plot(x, y)?\n",
        "\n",
        "  ans: plt.plot(x, y, 'o-') will create a line plot with circular markers on each point, while plt.plot(x, y) will create a plain line plot without marker.\n"
      ],
      "metadata": {
        "id": "z3EEyGFOgoms"
      }
    },
    {
      "cell_type": "markdown",
      "source": [
        "27. How can you change the line color to red in a line plot?\n",
        "\n",
        "  ans: plt.plot(x, y, color='red')\n"
      ],
      "metadata": {
        "id": "U0Csy1TNgocz"
      }
    },
    {
      "cell_type": "markdown",
      "source": [
        "28. Which argument in plt.plot() allows you to set the line style as dashed?\n",
        "\n",
        "  ans: linestyle = '--'\n",
        "\n"
      ],
      "metadata": {
        "id": "JMf1yCOVgoTl"
      }
    },
    {
      "cell_type": "markdown",
      "source": [
        "29. Write a command to create a blue dotted line plot using x and y data.\n",
        "\n",
        "  ans: plt.plot(x, y, color='blue', linestyle=':')"
      ],
      "metadata": {
        "id": "xljwwGmzgoN7"
      }
    },
    {
      "cell_type": "markdown",
      "source": [
        "30. How can you make the line width thicker in a plot?\n",
        "\n",
        "  ans: plt.plot(x, y, linewidth=2)"
      ],
      "metadata": {
        "id": "kcfNmn0LgoIT"
      }
    },
    {
      "cell_type": "markdown",
      "source": [
        "31. What command is used to set the x-axis range from 0 to 10 in a plot?\n",
        "\n",
        "  ans: plt.xlim(0, 10)"
      ],
      "metadata": {
        "id": "VT9TzekTgoCU"
      }
    },
    {
      "cell_type": "markdown",
      "source": [
        "32. How can you limit the y-axis between -5 and 5 in a plot?\n",
        "\n",
        "  ans: plt.ylim(-5, 5)"
      ],
      "metadata": {
        "id": "Hx4rwk1ThC57"
      }
    },
    {
      "cell_type": "markdown",
      "source": [
        "33. Which command is used to add a title to a plot?\n",
        "\n",
        "  ans: plt.tile('Title')"
      ],
      "metadata": {
        "id": "FULlxEAJhDYM"
      }
    },
    {
      "cell_type": "markdown",
      "source": [
        "34. Write a command to label the x-axis as \"Time (s)\".\n",
        "\n",
        "  ans: plt.xlabel('Time (s)')"
      ],
      "metadata": {
        "id": "1dua655hhD0T"
      }
    },
    {
      "cell_type": "markdown",
      "source": [
        "35. How do you add a legend to a plot?\n",
        "\n",
        "  ans: plt.legend(['label'])"
      ],
      "metadata": {
        "id": "EwtqlRcLhEIz"
      }
    },
    {
      "cell_type": "markdown",
      "source": [
        "#**Broad Questions**"
      ],
      "metadata": {
        "id": "EjhQe7TIzrok"
      }
    },
    {
      "cell_type": "markdown",
      "source": [
        "##Question 1"
      ],
      "metadata": {
        "id": "3ek36TkUmYBS"
      }
    },
    {
      "cell_type": "markdown",
      "source": [
        "**Combine Datasets with concat and append**\n",
        "\n",
        "*   Given two small DataFrames with columns for name, age, and score, use both pd.concat and .append() to combine these datasets.\n",
        "*   Question: Which method, concat or append, would you choose for combining a large number of DataFrames and why?"
      ],
      "metadata": {
        "id": "Jp-P_fCdm3nS"
      }
    },
    {
      "cell_type": "code",
      "source": [
        "df1 = pd.DataFrame({\n",
        "    'Name':['Alice', 'Bob'],\n",
        "    'Age':[25, 30],\n",
        "    'Score':[80, 90]\n",
        "    })\n",
        "\n",
        "df2 = pd.DataFrame({\n",
        "    'Name':['Charlie', 'David'],\n",
        "    'Age':[22, 28],\n",
        "    'Score':[75, 85]\n",
        "    })\n",
        "\n",
        "df3 = pd.concat([df1, df2])\n",
        "df3\n"
      ],
      "metadata": {
        "colab": {
          "base_uri": "https://localhost:8080/",
          "height": 175
        },
        "id": "EX2gTaK3z3gY",
        "outputId": "98d9848f-882b-43a6-adf8-d568b2695206"
      },
      "execution_count": null,
      "outputs": [
        {
          "output_type": "execute_result",
          "data": {
            "text/plain": [
              "      Name  Age  Score\n",
              "0    Alice   25     80\n",
              "1      Bob   30     90\n",
              "0  Charlie   22     75\n",
              "1    David   28     85"
            ],
            "text/html": [
              "\n",
              "  <div id=\"df-78546875-c56c-4097-943d-a772c9ae7137\" class=\"colab-df-container\">\n",
              "    <div>\n",
              "<style scoped>\n",
              "    .dataframe tbody tr th:only-of-type {\n",
              "        vertical-align: middle;\n",
              "    }\n",
              "\n",
              "    .dataframe tbody tr th {\n",
              "        vertical-align: top;\n",
              "    }\n",
              "\n",
              "    .dataframe thead th {\n",
              "        text-align: right;\n",
              "    }\n",
              "</style>\n",
              "<table border=\"1\" class=\"dataframe\">\n",
              "  <thead>\n",
              "    <tr style=\"text-align: right;\">\n",
              "      <th></th>\n",
              "      <th>Name</th>\n",
              "      <th>Age</th>\n",
              "      <th>Score</th>\n",
              "    </tr>\n",
              "  </thead>\n",
              "  <tbody>\n",
              "    <tr>\n",
              "      <th>0</th>\n",
              "      <td>Alice</td>\n",
              "      <td>25</td>\n",
              "      <td>80</td>\n",
              "    </tr>\n",
              "    <tr>\n",
              "      <th>1</th>\n",
              "      <td>Bob</td>\n",
              "      <td>30</td>\n",
              "      <td>90</td>\n",
              "    </tr>\n",
              "    <tr>\n",
              "      <th>0</th>\n",
              "      <td>Charlie</td>\n",
              "      <td>22</td>\n",
              "      <td>75</td>\n",
              "    </tr>\n",
              "    <tr>\n",
              "      <th>1</th>\n",
              "      <td>David</td>\n",
              "      <td>28</td>\n",
              "      <td>85</td>\n",
              "    </tr>\n",
              "  </tbody>\n",
              "</table>\n",
              "</div>\n",
              "    <div class=\"colab-df-buttons\">\n",
              "\n",
              "  <div class=\"colab-df-container\">\n",
              "    <button class=\"colab-df-convert\" onclick=\"convertToInteractive('df-78546875-c56c-4097-943d-a772c9ae7137')\"\n",
              "            title=\"Convert this dataframe to an interactive table.\"\n",
              "            style=\"display:none;\">\n",
              "\n",
              "  <svg xmlns=\"http://www.w3.org/2000/svg\" height=\"24px\" viewBox=\"0 -960 960 960\">\n",
              "    <path d=\"M120-120v-720h720v720H120Zm60-500h600v-160H180v160Zm220 220h160v-160H400v160Zm0 220h160v-160H400v160ZM180-400h160v-160H180v160Zm440 0h160v-160H620v160ZM180-180h160v-160H180v160Zm440 0h160v-160H620v160Z\"/>\n",
              "  </svg>\n",
              "    </button>\n",
              "\n",
              "  <style>\n",
              "    .colab-df-container {\n",
              "      display:flex;\n",
              "      gap: 12px;\n",
              "    }\n",
              "\n",
              "    .colab-df-convert {\n",
              "      background-color: #E8F0FE;\n",
              "      border: none;\n",
              "      border-radius: 50%;\n",
              "      cursor: pointer;\n",
              "      display: none;\n",
              "      fill: #1967D2;\n",
              "      height: 32px;\n",
              "      padding: 0 0 0 0;\n",
              "      width: 32px;\n",
              "    }\n",
              "\n",
              "    .colab-df-convert:hover {\n",
              "      background-color: #E2EBFA;\n",
              "      box-shadow: 0px 1px 2px rgba(60, 64, 67, 0.3), 0px 1px 3px 1px rgba(60, 64, 67, 0.15);\n",
              "      fill: #174EA6;\n",
              "    }\n",
              "\n",
              "    .colab-df-buttons div {\n",
              "      margin-bottom: 4px;\n",
              "    }\n",
              "\n",
              "    [theme=dark] .colab-df-convert {\n",
              "      background-color: #3B4455;\n",
              "      fill: #D2E3FC;\n",
              "    }\n",
              "\n",
              "    [theme=dark] .colab-df-convert:hover {\n",
              "      background-color: #434B5C;\n",
              "      box-shadow: 0px 1px 3px 1px rgba(0, 0, 0, 0.15);\n",
              "      filter: drop-shadow(0px 1px 2px rgba(0, 0, 0, 0.3));\n",
              "      fill: #FFFFFF;\n",
              "    }\n",
              "  </style>\n",
              "\n",
              "    <script>\n",
              "      const buttonEl =\n",
              "        document.querySelector('#df-78546875-c56c-4097-943d-a772c9ae7137 button.colab-df-convert');\n",
              "      buttonEl.style.display =\n",
              "        google.colab.kernel.accessAllowed ? 'block' : 'none';\n",
              "\n",
              "      async function convertToInteractive(key) {\n",
              "        const element = document.querySelector('#df-78546875-c56c-4097-943d-a772c9ae7137');\n",
              "        const dataTable =\n",
              "          await google.colab.kernel.invokeFunction('convertToInteractive',\n",
              "                                                    [key], {});\n",
              "        if (!dataTable) return;\n",
              "\n",
              "        const docLinkHtml = 'Like what you see? Visit the ' +\n",
              "          '<a target=\"_blank\" href=https://colab.research.google.com/notebooks/data_table.ipynb>data table notebook</a>'\n",
              "          + ' to learn more about interactive tables.';\n",
              "        element.innerHTML = '';\n",
              "        dataTable['output_type'] = 'display_data';\n",
              "        await google.colab.output.renderOutput(dataTable, element);\n",
              "        const docLink = document.createElement('div');\n",
              "        docLink.innerHTML = docLinkHtml;\n",
              "        element.appendChild(docLink);\n",
              "      }\n",
              "    </script>\n",
              "  </div>\n",
              "\n",
              "\n",
              "<div id=\"df-e0bc094b-42bc-4c3f-916c-fb581fa88521\">\n",
              "  <button class=\"colab-df-quickchart\" onclick=\"quickchart('df-e0bc094b-42bc-4c3f-916c-fb581fa88521')\"\n",
              "            title=\"Suggest charts\"\n",
              "            style=\"display:none;\">\n",
              "\n",
              "<svg xmlns=\"http://www.w3.org/2000/svg\" height=\"24px\"viewBox=\"0 0 24 24\"\n",
              "     width=\"24px\">\n",
              "    <g>\n",
              "        <path d=\"M19 3H5c-1.1 0-2 .9-2 2v14c0 1.1.9 2 2 2h14c1.1 0 2-.9 2-2V5c0-1.1-.9-2-2-2zM9 17H7v-7h2v7zm4 0h-2V7h2v10zm4 0h-2v-4h2v4z\"/>\n",
              "    </g>\n",
              "</svg>\n",
              "  </button>\n",
              "\n",
              "<style>\n",
              "  .colab-df-quickchart {\n",
              "      --bg-color: #E8F0FE;\n",
              "      --fill-color: #1967D2;\n",
              "      --hover-bg-color: #E2EBFA;\n",
              "      --hover-fill-color: #174EA6;\n",
              "      --disabled-fill-color: #AAA;\n",
              "      --disabled-bg-color: #DDD;\n",
              "  }\n",
              "\n",
              "  [theme=dark] .colab-df-quickchart {\n",
              "      --bg-color: #3B4455;\n",
              "      --fill-color: #D2E3FC;\n",
              "      --hover-bg-color: #434B5C;\n",
              "      --hover-fill-color: #FFFFFF;\n",
              "      --disabled-bg-color: #3B4455;\n",
              "      --disabled-fill-color: #666;\n",
              "  }\n",
              "\n",
              "  .colab-df-quickchart {\n",
              "    background-color: var(--bg-color);\n",
              "    border: none;\n",
              "    border-radius: 50%;\n",
              "    cursor: pointer;\n",
              "    display: none;\n",
              "    fill: var(--fill-color);\n",
              "    height: 32px;\n",
              "    padding: 0;\n",
              "    width: 32px;\n",
              "  }\n",
              "\n",
              "  .colab-df-quickchart:hover {\n",
              "    background-color: var(--hover-bg-color);\n",
              "    box-shadow: 0 1px 2px rgba(60, 64, 67, 0.3), 0 1px 3px 1px rgba(60, 64, 67, 0.15);\n",
              "    fill: var(--button-hover-fill-color);\n",
              "  }\n",
              "\n",
              "  .colab-df-quickchart-complete:disabled,\n",
              "  .colab-df-quickchart-complete:disabled:hover {\n",
              "    background-color: var(--disabled-bg-color);\n",
              "    fill: var(--disabled-fill-color);\n",
              "    box-shadow: none;\n",
              "  }\n",
              "\n",
              "  .colab-df-spinner {\n",
              "    border: 2px solid var(--fill-color);\n",
              "    border-color: transparent;\n",
              "    border-bottom-color: var(--fill-color);\n",
              "    animation:\n",
              "      spin 1s steps(1) infinite;\n",
              "  }\n",
              "\n",
              "  @keyframes spin {\n",
              "    0% {\n",
              "      border-color: transparent;\n",
              "      border-bottom-color: var(--fill-color);\n",
              "      border-left-color: var(--fill-color);\n",
              "    }\n",
              "    20% {\n",
              "      border-color: transparent;\n",
              "      border-left-color: var(--fill-color);\n",
              "      border-top-color: var(--fill-color);\n",
              "    }\n",
              "    30% {\n",
              "      border-color: transparent;\n",
              "      border-left-color: var(--fill-color);\n",
              "      border-top-color: var(--fill-color);\n",
              "      border-right-color: var(--fill-color);\n",
              "    }\n",
              "    40% {\n",
              "      border-color: transparent;\n",
              "      border-right-color: var(--fill-color);\n",
              "      border-top-color: var(--fill-color);\n",
              "    }\n",
              "    60% {\n",
              "      border-color: transparent;\n",
              "      border-right-color: var(--fill-color);\n",
              "    }\n",
              "    80% {\n",
              "      border-color: transparent;\n",
              "      border-right-color: var(--fill-color);\n",
              "      border-bottom-color: var(--fill-color);\n",
              "    }\n",
              "    90% {\n",
              "      border-color: transparent;\n",
              "      border-bottom-color: var(--fill-color);\n",
              "    }\n",
              "  }\n",
              "</style>\n",
              "\n",
              "  <script>\n",
              "    async function quickchart(key) {\n",
              "      const quickchartButtonEl =\n",
              "        document.querySelector('#' + key + ' button');\n",
              "      quickchartButtonEl.disabled = true;  // To prevent multiple clicks.\n",
              "      quickchartButtonEl.classList.add('colab-df-spinner');\n",
              "      try {\n",
              "        const charts = await google.colab.kernel.invokeFunction(\n",
              "            'suggestCharts', [key], {});\n",
              "      } catch (error) {\n",
              "        console.error('Error during call to suggestCharts:', error);\n",
              "      }\n",
              "      quickchartButtonEl.classList.remove('colab-df-spinner');\n",
              "      quickchartButtonEl.classList.add('colab-df-quickchart-complete');\n",
              "    }\n",
              "    (() => {\n",
              "      let quickchartButtonEl =\n",
              "        document.querySelector('#df-e0bc094b-42bc-4c3f-916c-fb581fa88521 button');\n",
              "      quickchartButtonEl.style.display =\n",
              "        google.colab.kernel.accessAllowed ? 'block' : 'none';\n",
              "    })();\n",
              "  </script>\n",
              "</div>\n",
              "\n",
              "  <div id=\"id_42c29f98-564d-4257-b195-6c2fba7aab94\">\n",
              "    <style>\n",
              "      .colab-df-generate {\n",
              "        background-color: #E8F0FE;\n",
              "        border: none;\n",
              "        border-radius: 50%;\n",
              "        cursor: pointer;\n",
              "        display: none;\n",
              "        fill: #1967D2;\n",
              "        height: 32px;\n",
              "        padding: 0 0 0 0;\n",
              "        width: 32px;\n",
              "      }\n",
              "\n",
              "      .colab-df-generate:hover {\n",
              "        background-color: #E2EBFA;\n",
              "        box-shadow: 0px 1px 2px rgba(60, 64, 67, 0.3), 0px 1px 3px 1px rgba(60, 64, 67, 0.15);\n",
              "        fill: #174EA6;\n",
              "      }\n",
              "\n",
              "      [theme=dark] .colab-df-generate {\n",
              "        background-color: #3B4455;\n",
              "        fill: #D2E3FC;\n",
              "      }\n",
              "\n",
              "      [theme=dark] .colab-df-generate:hover {\n",
              "        background-color: #434B5C;\n",
              "        box-shadow: 0px 1px 3px 1px rgba(0, 0, 0, 0.15);\n",
              "        filter: drop-shadow(0px 1px 2px rgba(0, 0, 0, 0.3));\n",
              "        fill: #FFFFFF;\n",
              "      }\n",
              "    </style>\n",
              "    <button class=\"colab-df-generate\" onclick=\"generateWithVariable('df3')\"\n",
              "            title=\"Generate code using this dataframe.\"\n",
              "            style=\"display:none;\">\n",
              "\n",
              "  <svg xmlns=\"http://www.w3.org/2000/svg\" height=\"24px\"viewBox=\"0 0 24 24\"\n",
              "       width=\"24px\">\n",
              "    <path d=\"M7,19H8.4L18.45,9,17,7.55,7,17.6ZM5,21V16.75L18.45,3.32a2,2,0,0,1,2.83,0l1.4,1.43a1.91,1.91,0,0,1,.58,1.4,1.91,1.91,0,0,1-.58,1.4L9.25,21ZM18.45,9,17,7.55Zm-12,3A5.31,5.31,0,0,0,4.9,8.1,5.31,5.31,0,0,0,1,6.5,5.31,5.31,0,0,0,4.9,4.9,5.31,5.31,0,0,0,6.5,1,5.31,5.31,0,0,0,8.1,4.9,5.31,5.31,0,0,0,12,6.5,5.46,5.46,0,0,0,6.5,12Z\"/>\n",
              "  </svg>\n",
              "    </button>\n",
              "    <script>\n",
              "      (() => {\n",
              "      const buttonEl =\n",
              "        document.querySelector('#id_42c29f98-564d-4257-b195-6c2fba7aab94 button.colab-df-generate');\n",
              "      buttonEl.style.display =\n",
              "        google.colab.kernel.accessAllowed ? 'block' : 'none';\n",
              "\n",
              "      buttonEl.onclick = () => {\n",
              "        google.colab.notebook.generateWithVariable('df3');\n",
              "      }\n",
              "      })();\n",
              "    </script>\n",
              "  </div>\n",
              "\n",
              "    </div>\n",
              "  </div>\n"
            ],
            "application/vnd.google.colaboratory.intrinsic+json": {
              "type": "dataframe",
              "variable_name": "df3",
              "summary": "{\n  \"name\": \"df3\",\n  \"rows\": 4,\n  \"fields\": [\n    {\n      \"column\": \"Name\",\n      \"properties\": {\n        \"dtype\": \"string\",\n        \"num_unique_values\": 4,\n        \"samples\": [\n          \"Bob\",\n          \"David\",\n          \"Alice\"\n        ],\n        \"semantic_type\": \"\",\n        \"description\": \"\"\n      }\n    },\n    {\n      \"column\": \"Age\",\n      \"properties\": {\n        \"dtype\": \"number\",\n        \"std\": 3,\n        \"min\": 22,\n        \"max\": 30,\n        \"num_unique_values\": 4,\n        \"samples\": [\n          30,\n          28,\n          25\n        ],\n        \"semantic_type\": \"\",\n        \"description\": \"\"\n      }\n    },\n    {\n      \"column\": \"Score\",\n      \"properties\": {\n        \"dtype\": \"number\",\n        \"std\": 6,\n        \"min\": 75,\n        \"max\": 90,\n        \"num_unique_values\": 4,\n        \"samples\": [\n          90,\n          85,\n          80\n        ],\n        \"semantic_type\": \"\",\n        \"description\": \"\"\n      }\n    }\n  ]\n}"
            }
          },
          "metadata": {},
          "execution_count": 156
        }
      ]
    },
    {
      "cell_type": "markdown",
      "source": [
        "**Concatenate NumPy Arrays**\n",
        "\n",
        "\n",
        "*   Create two 1-dimensional NumPy arrays: array1 with values [1, 2, 3] and array2 with values [4, 5, 6].\n",
        "*  Use np.concatenate to combine them into a single array.\n",
        "\n",
        "  \n",
        "   \n",
        "  "
      ],
      "metadata": {
        "id": "RRfT3w7MnT8M"
      }
    },
    {
      "cell_type": "code",
      "source": [
        "array1 = np.array([1, 2, 3])\n",
        "array2 = np.array([4, 5, 6])\n",
        "\n",
        "array3 = np.concatenate([array1, array2])\n",
        "array3\n"
      ],
      "metadata": {
        "colab": {
          "base_uri": "https://localhost:8080/"
        },
        "id": "d006KqCX0Ows",
        "outputId": "5a06c2d6-aff7-464e-f8bc-99c2270fcfda"
      },
      "execution_count": null,
      "outputs": [
        {
          "output_type": "execute_result",
          "data": {
            "text/plain": [
              "array([1, 2, 3, 4, 5, 6])"
            ]
          },
          "metadata": {},
          "execution_count": 157
        }
      ]
    },
    {
      "cell_type": "markdown",
      "source": [
        "**Concatenate with Different Join Types**\n",
        "\n",
        "\n",
        "*   Create two DataFrames: df1 with columns id, name, and score, and df2 with columns id, age, and city.\n",
        "\n",
        "*   Use pd.concat with both inner and outer join types to combine these DataFrames based on the id column.\n",
        "*   Question: What’s the difference between inner and outer joins when using pd.concat?"
      ],
      "metadata": {
        "id": "zKQ5n5HQoFpm"
      }
    },
    {
      "cell_type": "code",
      "source": [
        "df1 = pd.DataFrame({\n",
        "    'id':[1, 2, 3],\n",
        "    'name':['Alice', 'Bob', 'Charlie'],\n",
        "    'score':[80, 90, 75]\n",
        "    })\n",
        "\n",
        "df2 = pd.DataFrame({\n",
        "    'id':[1, 2, 4],\n",
        "    'age':[25, 30, 22],\n",
        "    'city':['New York', 'London', 'Paris']\n",
        "    })\n",
        "\n",
        "df3 = pd.concat([df1, df2], join='inner')\n",
        "print(df3)\n",
        "\n",
        "df4 = pd.concat([df1, df2], join='outer')\n",
        "print(df4)\n"
      ],
      "metadata": {
        "colab": {
          "base_uri": "https://localhost:8080/"
        },
        "id": "SghBv9uR0Zfq",
        "outputId": "489d4d3a-5094-4ae9-a86c-a899619dae0b"
      },
      "execution_count": null,
      "outputs": [
        {
          "output_type": "stream",
          "name": "stdout",
          "text": [
            "   id\n",
            "0   1\n",
            "1   2\n",
            "2   3\n",
            "0   1\n",
            "1   2\n",
            "2   4\n",
            "   id     name  score   age      city\n",
            "0   1    Alice   80.0   NaN       NaN\n",
            "1   2      Bob   90.0   NaN       NaN\n",
            "2   3  Charlie   75.0   NaN       NaN\n",
            "0   1      NaN    NaN  25.0  New York\n",
            "1   2      NaN    NaN  30.0    London\n",
            "2   4      NaN    NaN  22.0     Paris\n"
          ]
        }
      ]
    },
    {
      "cell_type": "markdown",
      "source": [
        "**Merge DataFrames**\n",
        "\n",
        "\n",
        "*   Given df1 and df2 from step 3, use pd.merge() to combine them on the id column.\n",
        "*   Experiment with different how parameters (left, right, inner, outer) and briefly explain the output of each.\n",
        "\n"
      ],
      "metadata": {
        "id": "75NU3h7Boc2p"
      }
    },
    {
      "cell_type": "code",
      "source": [
        "\n",
        "df3 = pd.merge(df1, df2, on='id', how='left')\n",
        "print(df3)\n",
        "\n",
        "df4 = pd.merge(df1, df2, on='id', how='right')\n",
        "print(df4)\n",
        "\n",
        "df5 = pd.merge(df1, df2, on='id', how='inner')\n",
        "print(df5)\n",
        "\n",
        "df6 = pd.merge(df1, df2, on='id', how='outer')\n",
        "print(df6)"
      ],
      "metadata": {
        "colab": {
          "base_uri": "https://localhost:8080/"
        },
        "id": "ZLlt3UDx0642",
        "outputId": "56078348-f7a8-48e2-9f66-686f66f1ac8e"
      },
      "execution_count": null,
      "outputs": [
        {
          "output_type": "stream",
          "name": "stdout",
          "text": [
            "   id     name  score   age      city\n",
            "0   1    Alice     80  25.0  New York\n",
            "1   2      Bob     90  30.0    London\n",
            "2   3  Charlie     75   NaN       NaN\n",
            "   id   name  score  age      city\n",
            "0   1  Alice   80.0   25  New York\n",
            "1   2    Bob   90.0   30    London\n",
            "2   4    NaN    NaN   22     Paris\n",
            "   id   name  score  age      city\n",
            "0   1  Alice     80   25  New York\n",
            "1   2    Bob     90   30    London\n",
            "   id     name  score   age      city\n",
            "0   1    Alice   80.0  25.0  New York\n",
            "1   2      Bob   90.0  30.0    London\n",
            "2   3  Charlie   75.0   NaN       NaN\n",
            "3   4      NaN    NaN  22.0     Paris\n"
          ]
        }
      ]
    },
    {
      "cell_type": "markdown",
      "source": [
        "**Groupby and Aggregate Data**\n",
        "\n",
        "\n",
        "*   Using a DataFrame representing sales data (columns: product, region, sales, and date), group the data by region and calculate:\n",
        "       *   The total sales for each region.\n",
        "       *   The average sales for each product.\n",
        "\n",
        "\n",
        "*   Question: Why might you use groupby when analyzing datasets with multiple categories?"
      ],
      "metadata": {
        "id": "w_J0IHmio8nB"
      }
    },
    {
      "cell_type": "code",
      "source": [
        "df = pd.DataFrame({\n",
        "    'product': ['A', 'B', 'A', 'C', 'B', 'A', 'C'],\n",
        "    'region': ['East', 'West', 'East', 'West', 'East', 'West', 'East'],\n",
        "    'sales': [1000, 2000, 1500, 3000, 2500, 1200, 3500],\n",
        "    'date': ['2023-10-26', '2023-10-26', '2023-10-27', '2023-10-27', '2023-10-28', '2023-10-28', '2023-10-29']\n",
        "})\n",
        "\n",
        "print(df)\n",
        "\n",
        "# Group by region and calculate total sales\n",
        "region_sales = df.groupby('region')['sales'].sum()\n",
        "print(region_sales)\n",
        "\n",
        "# Group by product and calculate average sales\n",
        "product_avg_sales = df.groupby('product')['sales'].mean()\n",
        "print(product_avg_sales)"
      ],
      "metadata": {
        "colab": {
          "base_uri": "https://localhost:8080/"
        },
        "id": "5cqGAMnM1gs1",
        "outputId": "40373f0a-843b-4062-8224-e99b599b5504"
      },
      "execution_count": null,
      "outputs": [
        {
          "output_type": "stream",
          "name": "stdout",
          "text": [
            "  product region  sales        date\n",
            "0       A   East   1000  2023-10-26\n",
            "1       B   West   2000  2023-10-26\n",
            "2       A   East   1500  2023-10-27\n",
            "3       C   West   3000  2023-10-27\n",
            "4       B   East   2500  2023-10-28\n",
            "5       A   West   1200  2023-10-28\n",
            "6       C   East   3500  2023-10-29\n",
            "region\n",
            "East    8500\n",
            "West    6200\n",
            "Name: sales, dtype: int64\n",
            "product\n",
            "A    1233.333333\n",
            "B    2250.000000\n",
            "C    3250.000000\n",
            "Name: sales, dtype: float64\n"
          ]
        }
      ]
    },
    {
      "cell_type": "markdown",
      "source": [
        "**Query with DataFrame.query and eval**\n",
        "\n",
        "\n",
        "\n",
        "*   Using the sales data DataFrame, use query to find rows where sales are greater than a specified threshold (e.g., 1000).\n",
        "\n",
        "*   Use eval to calculate the total sales of all products in a specific region.\n"
      ],
      "metadata": {
        "id": "JPXQpRXtpiCR"
      }
    },
    {
      "cell_type": "code",
      "source": [
        "fillterd_df = df.query('sales > 1000')\n",
        "print(fillterd_df)\n",
        "\n",
        "region = 'East'\n",
        "total_sales = pd.eval(df[df.region=='East']['sales'].sum())\n",
        "print(total_sales)"
      ],
      "metadata": {
        "colab": {
          "base_uri": "https://localhost:8080/"
        },
        "id": "EnLmCr9A27Ox",
        "outputId": "2bcf2c74-4720-43b0-837c-1e2941b27daa"
      },
      "execution_count": null,
      "outputs": [
        {
          "output_type": "stream",
          "name": "stdout",
          "text": [
            "  product region  sales        date\n",
            "1       B   West   2000  2023-10-26\n",
            "2       A   East   1500  2023-10-27\n",
            "3       C   West   3000  2023-10-27\n",
            "4       B   East   2500  2023-10-28\n",
            "5       A   West   1200  2023-10-28\n",
            "6       C   East   3500  2023-10-29\n",
            "8500\n"
          ]
        }
      ]
    },
    {
      "cell_type": "markdown",
      "source": [
        "##Question 2"
      ],
      "metadata": {
        "id": "Jvwz8YLMCKvt"
      }
    },
    {
      "cell_type": "markdown",
      "source": [
        "**Generate Data:**\n",
        "\n",
        "*   Use np.linspace to create an array x of 100 values between 0 and 10.\n",
        "*   Compute the sine (np.sin(x)) and cosine (np.cos(x)) of x.\n",
        "\n",
        "\n",
        "\n",
        "   \n",
        "   "
      ],
      "metadata": {
        "id": "Px7wd7qgurqp"
      }
    },
    {
      "cell_type": "code",
      "source": [
        "x = np.linspace(0, 10, 100)\n",
        "sin_x = np.sin(x)\n",
        "cos_x = np.cos(x)"
      ],
      "metadata": {
        "id": "WIaGYUwPCKGF"
      },
      "execution_count": null,
      "outputs": []
    },
    {
      "cell_type": "markdown",
      "source": [
        "**Create a Figure with Subplots:**\n",
        "\n",
        "*   Create a figure with two subplots: one for a simple line plot and another for a scatter plot.\n",
        "\n"
      ],
      "metadata": {
        "id": "kMajSolju6lC"
      }
    },
    {
      "cell_type": "code",
      "source": [
        "plt.subplot(2, 1, 1)\n",
        "plt.plot(x, sin_x)\n",
        "plt.plot(x, cos_x)\n",
        "\n",
        "plt.subplot(2, 1, 2)\n",
        "plt.scatter(x, sin_x)\n",
        "plt.scatter(x, cos_x)"
      ],
      "metadata": {
        "colab": {
          "base_uri": "https://localhost:8080/"
        },
        "id": "1uiG2zXnCboC",
        "outputId": "50e6a026-1da0-466c-a55d-39996e169261"
      },
      "execution_count": null,
      "outputs": [
        {
          "output_type": "execute_result",
          "data": {
            "text/plain": [
              "<matplotlib.collections.PathCollection at 0x7f7fa81d94e0>"
            ]
          },
          "metadata": {},
          "execution_count": 163
        },
        {
          "output_type": "display_data",
          "data": {
            "text/plain": [
              "<Figure size 640x480 with 2 Axes>"
            ],
            "image/png": "[encoded data removed]"
          },
          "metadata": {}
        }
      ]
    },
    {
      "cell_type": "markdown",
      "source": [
        "**Line Plot Customizations:**\n",
        "\n",
        "\n",
        "\n",
        "*   In the first subplot, plot the sine function as a solid line and the cosine function as a dashed line.\n",
        "\n",
        "*   Customize line colors (color='blue' for sine and color='orange' for cosine).\n",
        "*   List itemSet axes limits from 0 to 10 on the x-axis and -1.5 to 1.5 on the y-axis.\n",
        "\n",
        "\n",
        "*   Add labels to the x-axis and y-axis, a title for the plot, and a legend for the sine and cosine curves.\n",
        "  "
      ],
      "metadata": {
        "id": "XdBuLG8awIkS"
      }
    },
    {
      "cell_type": "code",
      "source": [
        "plt.subplot(2, 1, 1)\n",
        "plt.plot(x, sin_x, '-b', label = 'Sine' )\n",
        "plt.plot(x, cos_x, '--', color='orange', label='Cosine')\n",
        "\n",
        "plt.xlim(0, 10)\n",
        "plt.ylim(-1.5, 1.5)\n",
        "\n",
        "plt.xlabel('x')\n",
        "plt.ylabel('y')\n",
        "plt.title('Sine and Cosine Functions')\n",
        "plt.legend([])\n"
      ],
      "metadata": {
        "colab": {
          "base_uri": "https://localhost:8080/"
        },
        "id": "b5egL2reC0UF",
        "outputId": "b1c66010-9201-4046-d164-8385896b963f"
      },
      "execution_count": null,
      "outputs": [
        {
          "output_type": "execute_result",
          "data": {
            "text/plain": [
              "<matplotlib.legend.Legend at 0x7f7fa881e590>"
            ]
          },
          "metadata": {},
          "execution_count": 164
        },
        {
          "output_type": "display_data",
          "data": {
            "text/plain": [
              "<Figure size 640x480 with 1 Axes>"
            ],
            "image/png": "[encoded data removed]"
          },
          "metadata": {}
        }
      ]
    },
    {
      "cell_type": "markdown",
      "source": [
        "**Scatter Plot with Error Bars:**\n",
        "\n",
        "\n",
        "*   In the second subplot, plot a scatter plot of x vs. sin(x).\n",
        "\n",
        "*   Add error bars to each data point using plt.errorbar. Use a random normal distribution to generate small errors (e.g., yerr=0.4).\n",
        "*   Set a distinct color and shape (e.g., red squares) for the scatter plot.   "
      ],
      "metadata": {
        "id": "amNYHhyqwoZS"
      }
    },
    {
      "cell_type": "code",
      "source": [
        "plt.subplot(2, 1, 2)\n",
        "plt.scatter(x, sin_x, color='red', marker='s', label='Scatter Plot')\n",
        "plt.errorbar(x, sin_x, yerr=0.4, fmt='none', ecolor='black')\n",
        "\n",
        "plt.xlabel('x')\n",
        "plt.ylabel('sin(x)')\n",
        "plt.title('Scatter Plot with Error Bars')\n",
        "plt.legend();\n"
      ],
      "metadata": {
        "colab": {
          "base_uri": "https://localhost:8080/"
        },
        "id": "dgXMHKO5D1uT",
        "outputId": "e0c9a13d-093e-4c0a-b328-ff82286076f2"
      },
      "execution_count": null,
      "outputs": [
        {
          "output_type": "display_data",
          "data": {
            "text/plain": [
              "<Figure size 640x480 with 1 Axes>"
            ],
            "image/png": "[encoded data removed]"
          },
          "metadata": {}
        }
      ]
    },
    {
      "cell_type": "markdown",
      "source": [
        "**Save the Figure:**\n",
        "\n",
        "\n",
        "*   Save the entire figure as a .png file with the filename trigonometric_plots.png.\n",
        "\n",
        "\n"
      ],
      "metadata": {
        "id": "2v13-WM6xHzY"
      }
    },
    {
      "cell_type": "code",
      "source": [
        "plt.savefig('trigonometric_plots.png')"
      ],
      "metadata": {
        "colab": {
          "base_uri": "https://localhost:8080/"
        },
        "id": "fz1qH0l1xNuR",
        "outputId": "ad3b2fe2-b28d-4262-a5c3-3e28166cc9f5"
      },
      "execution_count": null,
      "outputs": [
        {
          "output_type": "display_data",
          "data": {
            "text/plain": [
              "<Figure size 640x480 with 0 Axes>"
            ]
          },
          "metadata": {}
        }
      ]
    },
    {
      "cell_type": "markdown",
      "source": [
        "##Question 3"
      ],
      "metadata": {
        "id": "W_Kin66wyF-Y"
      }
    },
    {
      "cell_type": "markdown",
      "source": [
        "**Data Loading and Handling Missing Values**\n",
        "\n",
        "\n",
        "*   Load the Iris dataset from Scikit-Learn.\n",
        "\n",
        "*   Simulate missing values: Introduce a few missing values randomly into the dataset. For example, set 5 random entries in the sepal length and petal length columns to NaN.\n",
        "*   Handle missing data: Use the mean of each column to fill in these missing values.\n",
        "\n",
        "\n",
        "\n",
        "\n",
        "\n",
        "\n",
        "\n",
        "\n"
      ],
      "metadata": {
        "id": "B6tMwUhNyMU5"
      }
    },
    {
      "cell_type": "code",
      "source": [
        "from sklearn.datasets import load_iris\n",
        "data = load_iris();\n",
        "df = pd.DataFrame(data.data, columns=data.feature_names)\n",
        "df['species'] = data.target\n",
        "\n",
        "\n",
        "np.random.seed(0)\n",
        "missing_ind = np.random.choice(df.index, size=5)\n",
        "df.loc[missing_ind,'sepal length (cm)'] = np.nan\n",
        "df.loc[missing_ind,'petal length (cm)'] = np.nan\n",
        "\n",
        "\n",
        "df.fillna(df.mean(), inplace=True)"
      ],
      "metadata": {
        "id": "eVHzn5hWyKKx"
      },
      "execution_count": null,
      "outputs": []
    },
    {
      "cell_type": "markdown",
      "source": [
        "**Data Splitting and K-Fold Cross-Validation (Decision Tree Classifier)**\n",
        "\n",
        "\n",
        "*   Split the dataset into features (X) and target (y).\n",
        "\n",
        "*   Implement K-Fold Cross-Validation with 5 folds using a Decision Tree Classifier.\n",
        "*   Calculate evaluation metrics (accuracy, precision, recall, and F1 score) across all folds.\n"
      ],
      "metadata": {
        "id": "iD-Lhcq0yXj5"
      }
    },
    {
      "cell_type": "code",
      "source": [
        "from sklearn.model_selection import train_test_split, KFold, cross_val_score\n",
        "from sklearn.tree import DecisionTreeClassifier\n",
        "from sklearn.metrics import accuracy_score, precision_score, recall_score, f1_score\n",
        "\n",
        "X = df[data.feature_names]\n",
        "y = df['species']\n",
        "\n",
        "X_train, X_test, y_train, y_test = train_test_split(X, y, train_size=0.5, random_state=42)\n",
        "\n",
        "model = DecisionTreeClassifier(random_state=42)\n",
        "\n",
        "model.fit(X_train, y_train)\n",
        "\n",
        "y_pred = model.predict(X_test)\n",
        "\n",
        "print(\"Accuracy: \", accuracy_score(y_test, y_pred))\n",
        "print(\"Precision: \", precision_score(y_test, y_pred, average='macro'))\n",
        "print(\"Recall: \", recall_score(y_test, y_pred, average='macro'))\n",
        "print(\"F1 score: \", f1_score(y_test, y_pred, average='macro'))\n",
        "\n",
        "\n",
        "accuracy_scores = cross_val_score(model, X, y, cv=5, scoring='accuracy')\n",
        "print(\"Cross validation accuracy scores: \", accuracy_scores)"
      ],
      "metadata": {
        "colab": {
          "base_uri": "https://localhost:8080/"
        },
        "id": "RmSffsGIyYHo",
        "outputId": "3f2ade45-f1ab-48da-e408-d77644bcbe53"
      },
      "execution_count": null,
      "outputs": [
        {
          "output_type": "stream",
          "name": "stdout",
          "text": [
            "Accuracy:  0.9066666666666666\n",
            "Precision:  0.9027777777777778\n",
            "Recall:  0.9045477261369315\n",
            "F1 score:  0.9029888551165147\n",
            "Cross validation accuracy scores:  [0.96666667 0.93333333 0.9        0.96666667 1.        ]\n"
          ]
        }
      ]
    },
    {
      "cell_type": "markdown",
      "source": [
        "**Hyperparameter Tuning**\n",
        "\n",
        "\n",
        "\n",
        "*   Tune hyperparameters (max_depth, min_samples_split) using GridSearchCV with Cross-Validation.\n",
        "*   Identify the best hyperparameters and save them for later use.\n",
        "\n",
        "\n",
        "\n",
        "\n"
      ],
      "metadata": {
        "id": "KBTZLS7syYiQ"
      }
    },
    {
      "cell_type": "code",
      "source": [
        "from sklearn.model_selection import GridSearchCV\n",
        "\n",
        "param_grid = {\n",
        "    'max_depth' : [3, 5, 7, None],\n",
        "    'min_samples_split' : [2, 5, 10]\n",
        "}\n",
        "\n",
        "grid_search = GridSearchCV(model, param_grid, cv=5, scoring='accuracy')\n",
        "grid_search.fit(X_train,y_train)\n",
        "\n",
        "print(\"Best parameters: \", grid_search.best_params_)\n",
        "print(\"Best cross_val accuracy: \", grid_search.best_score_)\n"
      ],
      "metadata": {
        "colab": {
          "base_uri": "https://localhost:8080/"
        },
        "id": "HXnQRPFIyY_A",
        "outputId": "5ee50bd1-05bb-4244-bd18-a10ebcf6b57d"
      },
      "execution_count": null,
      "outputs": [
        {
          "output_type": "stream",
          "name": "stdout",
          "text": [
            "Best parameters:  {'max_depth': 5, 'min_samples_split': 2}\n",
            "Best cross_val accuracy:  0.9066666666666668\n"
          ]
        }
      ]
    },
    {
      "cell_type": "markdown",
      "source": [
        "**Data Splitting and K-Fold Cross-Validation (KNN Classifier)**\n",
        "\n",
        "\n",
        "*   Split the dataset into features (X) and target (y).\n",
        "\n",
        "*   Implement K-Fold Cross-Validation with 5 folds using a KNN Classifier.\n",
        "*   Calculate evaluation metrics (accuracy, precision, recall, and F1 score) across all folds.\n",
        "\n"
      ],
      "metadata": {
        "id": "YAaN7nigjYDk"
      }
    },
    {
      "cell_type": "code",
      "source": [
        "from sklearn.model_selection import train_test_split, KFold, cross_val_score\n",
        "from sklearn.neighbors import KNeighborsClassifier\n",
        "from sklearn.metrics import accuracy_score, precision_score, recall_score, f1_score\n",
        "\n",
        "X = df[data.feature_names]\n",
        "y = df['species']\n",
        "\n",
        "X_train, X_test, y_train, y_test = train_test_split(X, y, train_size=0.5, random_state=42)\n",
        "\n",
        "model = KNeighborsClassifier()\n",
        "\n",
        "model.fit(X_train, y_train)\n",
        "\n",
        "y_pred = model.predict(X_test)\n",
        "\n",
        "print(\"Accuracy: \", accuracy_score(y_test, y_pred))\n",
        "print(\"Precision: \", precision_score(y_test, y_pred, average='macro'))\n",
        "print(\"Recall: \", recall_score(y_test, y_pred, average='macro'))\n",
        "print(\"F1 score: \", f1_score(y_test, y_pred, average='macro'))\n",
        "\n",
        "cross_val_scores = cross_val_score(model, X, y, cv=5, scoring='accuracy')\n",
        "print(\"Cross validation accuracy scores: \", cross_val_scores)"
      ],
      "metadata": {
        "id": "qdSBj6f7jfZ6",
        "colab": {
          "base_uri": "https://localhost:8080/"
        },
        "outputId": "ea1187b9-800b-4dbe-94ed-b1c53592062f"
      },
      "execution_count": null,
      "outputs": [
        {
          "output_type": "stream",
          "name": "stdout",
          "text": [
            "Accuracy:  0.9066666666666666\n",
            "Precision:  0.9222222222222222\n",
            "Recall:  0.9045477261369315\n",
            "F1 score:  0.9034196743584686\n",
            "Cross validation accuracy scores:  [0.9        0.96666667 0.93333333 0.96666667 0.96666667]\n"
          ]
        }
      ]
    },
    {
      "cell_type": "markdown",
      "source": [
        "**Hyperparameter Tuning**\n",
        "\n",
        "\n",
        "\n",
        "*   Tune hyperparameters (n_neighbors, weights) using GridSearchCV with Cross-Validation.\n",
        "*   Identify the best hyperparameters and save them for later use."
      ],
      "metadata": {
        "id": "jq_fEA7amgBA"
      }
    },
    {
      "cell_type": "code",
      "source": [
        "from sklearn.model_selection import GridSearchCV\n",
        "\n",
        "pram_grid = {\n",
        "    'n_neighbors' : [3, 5, 7, 9],\n",
        "    'weights' : ['uniform', 'distance']\n",
        "}\n",
        "\n",
        "grid_search = GridSearchCV(model, pram_grid, cv=5, scoring='accuracy').fit(X_train, y_train)\n",
        "\n",
        "print(\"Best parameters: \", grid_search.best_params_)\n",
        "print(\"Best cross_val accuracy: \", grid_search.best_score_)"
      ],
      "metadata": {
        "id": "KAkNJ-YymszI",
        "colab": {
          "base_uri": "https://localhost:8080/"
        },
        "outputId": "def84efe-209d-4693-b31a-6e781df152e6"
      },
      "execution_count": null,
      "outputs": [
        {
          "output_type": "stream",
          "name": "stdout",
          "text": [
            "Best parameters:  {'n_neighbors': 7, 'weights': 'uniform'}\n",
            "Best cross_val accuracy:  0.9199999999999999\n"
          ]
        }
      ]
    },
    {
      "cell_type": "markdown",
      "source": [
        "**Data Splitting and K-Fold Cross-Validation (a SVC Classifier)**\n",
        "\n",
        "\n",
        "\n",
        "*   Split the dataset into features (X) and target (y).\n",
        "\n",
        "*   Implement K-Fold Cross-Validation with 5 folds using a SVC Classifier.\n",
        "*   Calculate evaluation metrics (accuracy, precision, recall, and F1 score) across all folds.\n"
      ],
      "metadata": {
        "id": "myCsHLwWnyqa"
      }
    },
    {
      "cell_type": "code",
      "source": [
        "from sklearn.model_selection import train_test_split, KFold, cross_val_score\n",
        "from sklearn.svm import SVC\n",
        "from sklearn.metrics import accuracy_score, precision_score, recall_score, f1_score\n",
        "\n",
        "X = df[data.feature_names]\n",
        "y = df['species']\n",
        "\n",
        "X_train, X_test, y_train, y_test = train_test_split(X, y, train_size=0.5, random_state=42)\n",
        "\n",
        "model = SVC()\n",
        "\n",
        "model.fit(X_train, y_train)\n",
        "\n",
        "y_pred = model.predict(X_test)\n",
        "\n",
        "print(\"Accuracy: \", accuracy_score(y_test, y_pred))\n",
        "print(\"Precision: \", precision_score(y_test, y_pred, average='macro'))\n",
        "print(\"Recall: \", recall_score(y_test, y_pred, average='macro'))\n",
        "print(\"F1 score: \", f1_score(y_test, y_pred, average='macro'))\n",
        "\n",
        "cross_val_scores = cross_val_score(model, X, y, cv=5, scoring='accuracy')\n",
        "print(\"Cross validation accuracy scores: \", cross_val_scores)"
      ],
      "metadata": {
        "colab": {
          "base_uri": "https://localhost:8080/"
        },
        "id": "3cvezFg8n15K",
        "outputId": "0f35f62b-566f-4aa9-f635-9fc63552149a"
      },
      "execution_count": null,
      "outputs": [
        {
          "output_type": "stream",
          "name": "stdout",
          "text": [
            "Accuracy:  0.96\n",
            "Precision:  0.9615384615384616\n",
            "Recall:  0.9625187406296852\n",
            "F1 score:  0.9602796674225246\n",
            "Cross validation accuracy scores:  [0.9        0.93333333 0.93333333 0.93333333 0.96666667]\n"
          ]
        }
      ]
    },
    {
      "cell_type": "markdown",
      "source": [
        "**Hyperparameter Tuning**\n",
        "\n",
        "\n",
        "\n",
        "*   Tune hyperparameters (C, kernel, gamma) using GridSearchCV with Cross-Validation.\n",
        "*   Identify the best hyperparameters and save them for later use."
      ],
      "metadata": {
        "id": "Q8Ecrv18n52a"
      }
    },
    {
      "cell_type": "code",
      "source": [
        "from sklearn.model_selection import GridSearchCV\n",
        "\n",
        "param_grid = {\n",
        "    'C' : [0.1, 1.0, 2.5],\n",
        "    'kernel' : ['linear', 'rbf'],\n",
        "    'gamma' : ['scale', 'auto']\n",
        "}\n",
        "\n",
        "grid_search = GridSearchCV(model, param_grid, cv=5, scoring='accuracy').fit(X_train, y_train)\n",
        "\n",
        "print(\"Best parameters: \", grid_search.best_params_)\n",
        "print(\"Best cross_val accuracy: \", grid_search.best_score_)"
      ],
      "metadata": {
        "colab": {
          "base_uri": "https://localhost:8080/"
        },
        "id": "hQ1EUtMxn8ZK",
        "outputId": "32a3db6c-f16f-4199-c978-ebec00cc4f97"
      },
      "execution_count": null,
      "outputs": [
        {
          "output_type": "stream",
          "name": "stdout",
          "text": [
            "Best parameters:  {'C': 2.5, 'gamma': 'scale', 'kernel': 'linear'}\n",
            "Best cross_val accuracy:  0.9466666666666667\n"
          ]
        }
      ]
    },
    {
      "cell_type": "markdown",
      "source": [
        "#Question 4\n",
        "\n",
        "  You have the following data on monthly rainfall (in millimeters) in your city for the first four months of the year:\n",
        "\n",
        "  *   January: 78 mm\n",
        "  *   February: 92 mm\n",
        "  *   March: 56 mm\n",
        "  *   April: 89 mm\n",
        "\n",
        "  1. Using the data provided, create a Pandas Series and label each month accordingly.\n",
        "\n",
        "  2. Select the rainfall data for February using the Series as if it were a dictionary."
      ],
      "metadata": {
        "id": "TitZnM2aK7k2"
      }
    },
    {
      "cell_type": "code",
      "source": [
        "values = [78, 92, 56, 89]\n",
        "months = ['January', 'February', 'March', 'April']\n",
        "\n",
        "rainfall = pd.Series(values, index=months)\n",
        "print(rainfall)\n",
        "\n",
        "print(rainfall['February'])"
      ],
      "metadata": {
        "colab": {
          "base_uri": "https://localhost:8080/"
        },
        "id": "OCbNQrZYLUCd",
        "outputId": "771a6857-bbd2-4daf-dbd7-8954d17c3b08"
      },
      "execution_count": null,
      "outputs": [
        {
          "output_type": "stream",
          "name": "stdout",
          "text": [
            "January     78\n",
            "February    92\n",
            "March       56\n",
            "April       89\n",
            "dtype: int64\n",
            "92\n"
          ]
        }
      ]
    },
    {
      "cell_type": "markdown",
      "source": [
        "#Question 5\n",
        "\n",
        "  Suppose you have a list of dictionaries where each dictionary represents a student's data in a class, including their 'Name,' 'Age,' and 'Score' on a recent exam:\n",
        "\n",
        "  1. Construct a Pandas DataFrame using this list of dictionaries.\n",
        "\n",
        "  2. Demonstrate how to select only the 'Score' column from this DataFrame as if it were a NumPy array."
      ],
      "metadata": {
        "id": "E4yXmIiTMljM"
      }
    },
    {
      "cell_type": "code",
      "source": [
        "student_data = [\n",
        "    {'Name': 'Alice', 'Age': 20, 'Score': 85},\n",
        "    {'Name': 'Bob', 'Age': 21, 'Score': 92},\n",
        "    {'Name': 'Charlie', 'Age': 19, 'Score': 78},\n",
        "    {'Name': 'David', 'Age': 22, 'Score': 95}\n",
        "]\n",
        "\n",
        "df = pd.DataFrame(student_data)\n",
        "print(df)\n",
        "\n",
        "print(df['Score'].to_numpy())"
      ],
      "metadata": {
        "colab": {
          "base_uri": "https://localhost:8080/"
        },
        "id": "PspwvD9DMwXN",
        "outputId": "1315401d-59a1-47de-9f25-fc4fbb556c46"
      },
      "execution_count": null,
      "outputs": [
        {
          "output_type": "stream",
          "name": "stdout",
          "text": [
            "      Name  Age  Score\n",
            "0    Alice   20     85\n",
            "1      Bob   21     92\n",
            "2  Charlie   19     78\n",
            "3    David   22     95\n",
            "[85 92 78 95]\n"
          ]
        }
      ]
    },
    {
      "cell_type": "markdown",
      "source": [
        "#Question 6\n",
        "\n",
        "  Imagine a store that sells different products. Each product has information on its 'Product Name,' 'Price' (in dollars), and 'Stock' (units available). Create a DataFrame with the following data:\n",
        "\n",
        "\n",
        "  ![Screenshot 2024-11-03 193051.png](data:image/png;base64,iVBORw0KGgoAAAANSUhEUgAAAkQAAACKCAYAAABLnVW3AAAAAXNSR0IArs4c6QAAAARnQU1BAACxjwv8YQUAAAAJcEhZcwAADsMAAA7DAcdvqGQAABSdSURBVHhe7d1fSFT5/8fxj7/LFbSb1S2sJBTU0IVY2pQuurBtDYygpS5iq4uVvl3kRYIGSRdRF7YrCwVJ6IX9g1U2yGLzQlmEwsqNZVepYA0RikKvXFe7nZ+vT+czHaeZcbKpZvw8H3CaOX9mzqjvz+e8P3/mlBNZYAAAADz2f8EjAACAt0iIAACA90iIAACA90iIAACA90iIAACA90iIAACA90iIAACA90iIAACA90iIAACA95a8U3VOTk7wDAAAILuk+h9ypJQQpfpmQDYj1uELYh2+eJdYZ8gMAAB4j4QIAAB4j4QIAAB4j4QIAAB4j4QIAAB4j4QIAAB4j4QIAAB4j4QIAAB4j4QIAAB4b9kJ0fT0tKmpqTHFxcWLlqampuCI9zc4OGj27dtn5ufngy3pMzY2ZsrLy+1njj2Hzut+Hv2M+lnhL8WGYsTFhFtSic2Ojo60lgngY4itH+/fv2+uXbsW7E0PnaO6uto+AhkhsoSlDjl27FjkwoUL9vno6GikrKzMbntfAwMDkfXr10f27t0bmZubC7a+O732xx9/TPge7jyxn3lqairy008/BWvwwVKxrjh3caL4WKjM3zs+gU8hWawrnhXXqhvF1euunhftc/uXw5Ufva/eH/hQUkhzotI6ZFZZWWl27txp7t279969KrW1taarqytYW77Lly+bP/74I1iLb8+ePeb69eu2ZwhIRUFBgfn+++/NQmVuJiYmgq1A9lM8z87OmqqqKruuer23t9fk5eXZddXtJ0+etM+XS+Xn4sWLZtWqVcEW4NNL+xyikpKS4NmbLtGGhgbb9arhA9GjG3aIHU5wXbVa/vrrL7vt1atX0SELJS3umPBwltumY9x2naetrc08ePDAfPXVVwm7Zuvq6kxLS4s5evRowmPC7+8+h+g8Ol9fX1/0M+q84ePDiVZ4eypDLshcpaWlwbM3caB41t/WxbUeXdxLeDg2/PcnLpApCgsLzb///mvrQxeHSor2799v43z37t3mxYsX5ocffojGuYt/xa/iOFyP6j1c3aglXsMzUX0JfExpTYgU1OfOnbNJkBw+fNi8fPnSbNq0yUxOTpojR47Yi8PTp0/t+sjIiO1NchcMFarm5mbbGnn48GG0Z+ezzz4z58+fN2vWrLHrrsWSn59v18Ove/TokVm7dq3t8dH5lOh8/fXX9v30ukQOHDhgW0SnT5+OezHq7u42jY2N9nOrR6m/v98ep0pDlcPx48dNa2ur7dVSr5R+Dzqnzq9jRZ9T76Pt+pyiY5F99LdUK1kx88UXX0TjQBQj7e3tNq4Vh47Kh7Yr7rU8e/Ys2ptKXCBTuN4b9X5u3LhxUaNV+27cuGHrYtV1imfF78GDB+1rFPuqJ1X3a7uonGzbts3uU33Y2dn5Vh179+5dO7qgYzQ6AHwKaUmI1AujzL6+vt5eIE6dOhUtVKtXrzZbt261x6kQDA0N2R4Z0TE69sqVK7bw6OJRUVFhE5fc3Fzbs5QKFdzw63p6emwy9C70OiVdukjFuxip4Lv3VC/Y8+fP7XOXqOlR51frSt3AZ86cse8pOlY/uz6nfkZVMlrUc6XfR7wEDJlJfz/F+ubNm+26/u6ff/55NA5cbIviRcmzo0p/165dNu61DA8P28qfuECmUV325MkTm8AoNmN7fcIUvxpO27Bhg11X49I1SlWvq/5z5UBlQvWzqxtFjUdRHQt8SmlJiFRolNlriQ32MFXwSjjClEC4nh71HIWH3FI1Pj4ePHs/LkFTgjcwMBBsfUOfX12/2r8c+pyqGNzvaqnfFzJP+O+nhEYxkyrFdzzEBTKVEhj1WibrPY+tfxW3RUVF9vnU1JSdj5TIzMyMrWtpACATpH0OUTIqKGo5xBYgFR5X+Se6aCSjuRyuF+Z9qcWuBO/EiRPRIRBRt7HmIWlYTPuXK12fE9lHyX6i+CYukCnUqxPurVHdrHpPiU28GFX9q4Zu7D5tV4NXlBjFo970X375xT5nmBif2kdPiDSWrC5S1/2quROaY6R9Gm5QN6ubVKe5Nxo+0Bi0S6YcvU5dupq7oQuNm48hKpip3jMjXu+Sunw178hRBfH48WM7R0ldyculoUN1L7uC/y6fE9lPf3/1KrnYV1xpMj5xgUwTrodFw72alhCvR9R9G831nCu+VV9qu47X61RfO4p5xb7jEi7Ff6JhOeCjCL5+n1CiQ9x9JHQPn3j3Cwrv16PWHd3Lxb0u9v4/utdFeF/4fcP7dG+hb7/9Nvq+CxcUe08L7Qvf2yK8Pfa+GeHPEb7Hhuh1C4lYsLb42B07dtjHxsZG+/n0XOe4evVq9Fz6mbXuXuN+zkSfE59eolh392Vxf8vYeA7vD/9N48WXYjDe+xAX+JiSVf2KyRs3biyK39j63e1z25PFb2z5UVnQOcLXB5UL93pXVwLpkEKaE5WjfxZekFBOTo7eLVgDVi5iHb4g1uGLd4n1jzpkBgAAkIlIiAAAgPdIiAAAgPdIiAAAgPdIiAAAgPdIiAAAgPdIiAAAgPdIiAAAgPdSujEjAABANkr1xozcqRoIEOvwBbEOX3CnagAAgHdAQgQAALxHQgQAALxHQgQAALxHQgQAALxHQgQAALxHQgQAALxHQgQAALxHQgQAALy37IRoenra1NTUmOLi4kVLU1NTcASw8oyNjZnq6mr7uBSVBcoFslWyWO/o6LBxXV5e/tb+wcHBaNzrOZAtlp0QFRQUmOHhYbNnzx7T0tJiJicnza1bt8zt27ep/LEiqXKvr683MzMzwZbEdJHYtGmTLRda2tvbgz1A5ksW69o3NDRkHj16ZHp7e01zc7NtIIviXrE+MjJiFz2Pl1ABmSitQ2aVlZVm586d5t69e9ECAqwUtbW1tpJXy3cpExMTZvv27cEakF0Sxfr8/Lzp7Ow0DQ0NJjc319b5FRUVZnR01O7v7u42u3btsg1mLXp+9+5duw/IdGmfQ1RSUhI8ey3cfep6jtxwW19fn9m3b5/dpy5YYCVQfLe1tZnNmzfTW4oVRQnR7OysKSwsDLa8rvP7+/vtvufPn5vS0tJgj7HP1ZukfUCmS2tCpK7Rc+fO2XFntQ60fufOHTtkoNaGeo5+++03c/ToUfPixQtz/Phx09raarq6usyVK1foVcKK4IaTNaSgC4SSf2IbK8HU1JR9DCdETrxkCcgmaUmI1BpWL4/GnKuqqsypU6fsdnWVXrp0ye5Ta1lJ0O+//27Onz9v1qxZYx/V5aoClJ+fb18DrBQaUujp6bENhOvXrwdbAQCZKC0JkZtUrUUXAF0I5OnTp4v2aWFyKXxTV1dnywKQ7Vzvj+spClO9n5eXF3cfkA3SPocoFhcC4O25dUA2ik16NEymOUJK+rWvqKjIjI+P232iuUXbtm2LNpKBTPZBEyIVEg0VuHtRaB6FJlIDvtAFQxcF3Z4CyHZKbPQNM33TTLGtb1MqQdKwsBw6dMjcvHnT1vVaNIeO2EfWiCwh0SELLYTIQiGIrF+/3i579+6NzM3NBXvfGBgYiB6j4ycnJ+2xWi8rK4tcvXrVPrr9el/gU1iqOIyOjkZjVYtiW1xZuHDhgl0Px7yO1+uATLLcWHcU69oer8528U/sIxOkkOZE5eifhRcklJOTo3cL1oCVi1iHL4h1+OJdYv2DzyECAADIdCREAADAeyREAADAeyREAADAeyREAADAeyREAADAeyREAADAeyREAADAeyndmBEAACAbpXpjRu5UDQSIdfiCWIcvuFM1AADAOyAhAgAA3iMhAgAA3iMhAgAA3iMhAgAA3iMhAgAA3iMhAgAA3iMhAgAA3iMhAgAA3lt2QjQ4OGiKi4vt0tTUFGx9raOjI7pv3759Zn5+PtjzfsbGxkx1dbV9TCd9/tifAYiVLOZjTU9Pm5qampSOBTJRsnrc7SsvL097fQx8KstOiGpra83k5KRpaWkx169ftwXEOXLkiLl165Y5c+aM6enpMbm5ucGe+HTxaG9vD9bi0zGHDx82MzMzwZb00OfW5weSUfz9/fffNuZHRkbMvXv3bIIUjy4cR48eNadOnbLHS7h8AJlO8f7q1Ssbv1rC9bjifmhoyDx69Mj09vaa5uZmezyQ7d57yCwvL89s377dnDt3btkthba2NvPixYtgLb6CggJz8eJFs2rVqmBLeih527NnT7AGJPa///3PPioW1VOZiJIlccccOnTI/Pnnn2nrKQU+tImJCfPNN98Ea28ohjs7O01DQ4NNkCorK01FRYUZHR0NjgCyV1rmEDU2NpqdO3faHpxELQVtd0MI4W5WDSeoh0aL9us4FTp10SbqklXh03btD7fSE51Dku0L0+fRMekc6kP2UxLkWsiut0e9pPGMj4+boqKi6PGFhYXm+fPn9iIDZDrVez///LOpr69/qx7U89nZWRvTTklJienv7w/WgOyVtknVGjoT9fbEUjJy8OBB28Oj7lclUC550lCZemi0DA8P2wvP2bNnTWtra/TY06dPRwulhsxu3rxpHj58aM958uRJ+z7JzpFsX5jWHz9+bIf7Uhnqg18Ug7pAxIvxsKdPn9qLBJCNVO+p/lNdqcT+q6++ijYgp6am7GM4IQJWirQlRG5I6/bt22/NrVCPjobWNmzYYNcPHDhg1q5dG3fujpKSgYEB2zpRT40uPnq9a11ryEzJkgqtex/tT3aOVM6vFrzmfVy6dMl2AwOx3IVCCbPinHlBWOnUYFUDsru7O9gCrFxpS4hEiYQKjxILJSGOhhDCdGFRyyMetUDy8/PtxFW1ULQ8efJkySQl2TlSOf+DBw/sEv7cQDwuztUTFI96hxLtA7LN1q1b7TCZekhdz5DrKQJWkrQmRKJJyppPdOLECVuIpLS01Dx79mzRWLRoezwaFkulwIXHs5OdI5Xza8iuq6srOgQHJJModkX71OPo4i22hxLINmvWrLENSS2KZVc/K8b1jbO6ujq7DmSz906I/vnnn+DZG5rbowLkVFVV2Uc390Lj0Zqr47aH6aKxbt26RfOG+vr6oklKOFnSkJe70CQ7R6rn1yRZfTNoqTki8JviUkNn+vZYPO7bZe7bZppw6r6VA2SbX3/91Xz33Xf2uWJYsaxvmqkcaCqD6uBk37oEskZkCYkOmZubi+zduzeyfv16uwwMDAR7XtP6hQsXgrVIZKGVHCkrK7PH6lHrjo4Nb49970Tvo2N0rJPsHIn26b3D5zl27Fjc12PlS1YcwnESGxsLCXpk4YKwKE7dNhdXQCZJFuvhulJLbN0urjwoxhXrQKZKIc2JytE/Cy9IKCcnR+8WrAErF7EOXxDr8MW7xHra5xABAABkGxIiAADgPRIiAADgPRIiAADgPRIiAADgPRIiAADgPRIiAADgPRIiAADgvZRuzAgAAJCNUr0xI3eqBgLEOnxBrMMX3KkaAADgHZAQAQAA75EQAQAA75EQAQAA75EQAQAA75EQAQAA75EQAQAA75EQAQAA75EQAQAA7y07IZqenjY1NTWmuLj4raW8vNyMjY0FRwIrw/z8vNm3b5+NcT1qPZmmpqZomdBzIFsMDg4mjd2Ojg67L15dH36tngPZYtkJUUFBgRkeHjZ79uwxLS0tZnJyMrqcP3/eTE1NBUcCK8PJkyfNtm3bbIzrUeuJ6CKxadOmaJlob28P9gCZTbF7584dG7e3bt0yt2/ftgmQoyRnaGjIPHr0yPT29prm5mbbQBa9VrE+MjJiFz2ncYxs8UGGzGpra+0CrBSq1B8/fmwbAKLH58+fRy8EsSYmJsz27duDNSB7qOdTSY5UVlaaxsZGmwBpu5bOzk7T0NBgcnNz7f6KigozOjpqj+/u7ja7du2yDWYten737l27D8h0aU+Irl27tqhFoJZFXV2dXVz3arhLNdzl6oYkNBSnY+7fv79oe+zxeqyurraFU/vCrRggndTjmZeXZy8C4h7dhSBMSVJbW5vZvHkzQ2XIOlu2bInGt5SWlgbPXtfFs7OzprCwMNhiTElJienv77f71EgIH6/nLpkCMl1aEiJV/i7BOX36dLD1ddeq9qnr9ezZs+bJkydmw4YNtoXR1dVlu1yrqqqiLYjLly/b5ObGjRt2OGJubs5u12tbW1vt+6i1onPo+eHDh83Lly+jQxNHjhyxxwPpNj4+boqKihZdKBJxw8mKb10glOAn6kkCMp1iX0PEin03FSKcEDnxkiUgm6QlIQrPIVLi4mjYTPuU9CgREhWqnp4eu0/PdZF5+vSp3SdKlrRdFxQdowvJwMCAqa+vtwmXEiy1yv/77z9z8eJFs3r1arN169bg1UDmcLGuXszr168HW4HsofpX9fOBAweCLcDKlfYhs/3799tx5aWooKnlHL5QuEK3cePG6Ld41CLJz8+3E/Rc0qWeplTOAaSLuv7V27Ocrn8NF4eTfiBbXLlyxTZqldyL6/2J96UZHaNhZb5Qg2z1QSZVJ6MLipKd3bt326ExN0lVXItaQw3ivsUzMzNDIcMnpQuBhgNcQqRJ01pX72cqNM8CyCaak/nll1/aIWAnNulRedAcISX92qcefw2xOZpb5IbbgEz3QRIi9f4o6Yk3b8JdSJQMhQuaqABq3pEKj+YSiYba1q1bZ+cNuYtRX19f3PcGPhT3bRrXo6l5b+7bNMkoZnVRCCf+QKZTPSzu28JaD9fNmtqg2FZ9rgRJw8Jy6NAhc/PmTVs/a1GvKrGPrBFZQqJDFloIkYVCEFm/fn3c5cKFC5GBgYHo+rFjx+zr5ubmInv37o1u37FjR/T4q1evRrZs2WLXy8rKIqOjo3Ffo2PD59ej1oH3sVRxCMehi2dxsai4lHDch+MYyBTJYl1x7OLXLbF1rDsmXt3r4p/YRyZIIc2JytE/Cy9IKCcnR+8WrAErF7EOXxDr8MW7xPpHn0MEAACQaUiIAACA90iIAACA90iIAACA90iIAACA90iIAACA90iIAACA90iIAACA91K6MSMAAEA2SvXGjEsmRAAAACsdQ2YAAMB7JEQAAMB7JEQAAMB7JEQAAMB7JEQAAMB7JEQAAMBzxvw/TSVFCNFUOFMAAAAASUVORK5CYII=)\n",
        "1. Write the code to create this DataFrame.\n",
        "\n",
        "2. Show how you would access the 'Price' for 'Notebook' using DataFrame indexing, treating it like a two-dimensional array."
      ],
      "metadata": {
        "id": "Zau6oUikNufg"
      }
    },
    {
      "cell_type": "code",
      "source": [
        "df = pd.DataFrame({\n",
        "    'Product Name': ['Pen', 'Notebook', 'Eraser'],\n",
        "    'Price': [1.5, 3.0, 0.5],\n",
        "    'Stock': [100, 50, 200]\n",
        "})\n",
        "\n",
        "\n",
        "df.set_index('Product Name', inplace=True)\n",
        "\n",
        "print(df.loc['Notebook', 'Price'])"
      ],
      "metadata": {
        "colab": {
          "base_uri": "https://localhost:8080/"
        },
        "id": "2spwTajRNvtR",
        "outputId": "991162cb-c56c-4a29-e7e4-d9e2b69d40f0"
      },
      "execution_count": null,
      "outputs": [
        {
          "output_type": "stream",
          "name": "stdout",
          "text": [
            "3.0\n"
          ]
        }
      ]
    },
    {
      "cell_type": "markdown",
      "source": [
        "#Question 7\n",
        "\n",
        "  Consider a dataset that tracks employee information, including their names, departments, and years of experience. Some of the values for 'Years of Experience' are missing. The data is given as follows:\n",
        "\n",
        "\n",
        "\n",
        "```\n",
        "import pandas as pd\n",
        "\n",
        "\n",
        "# Employee data with missing values\n",
        "data = {\n",
        "    'Name': ['Alice', 'Bob', 'Charlie', 'David', 'Eva'],\n",
        "    'Department': ['HR', 'IT', 'Finance', None, 'Marketing'],\n",
        "    'Years of Experience': [5, None, 8, 6, None]\n",
        "}\n",
        "\n",
        "```\n",
        "\n",
        "\n",
        "\n",
        "  1. Write code to detect the missing values in each column.\n",
        "\n",
        "  2. Drop rows where the 'Department' data is missing.\n",
        "\n",
        "  3. Fill in missing values in the 'Years of Experience' column with the average years of experience from the available data."
      ],
      "metadata": {
        "id": "2vsgX81XP9JN"
      }
    },
    {
      "cell_type": "code",
      "source": [
        "data = {\n",
        "    'Name': ['Alice', 'Bob', 'Charlie', 'David', 'Eva'],\n",
        "    'Department': ['HR', 'IT', 'Finance', None, 'Marketing'],\n",
        "    'Years of Experience': [5, None, 8, 6, None]\n",
        "}\n",
        "\n",
        "df = pd.DataFrame(data)\n",
        "\n",
        "#1\n",
        "print(df.isnull().sum())\n",
        "\n",
        "#2\n",
        "df.dropna(subset='Department', inplace=True)\n",
        "\n",
        "#3\n",
        "df['Years of Experience'] = df['Years of Experience'].fillna(df['Years of Experience'].mean());\n",
        "\n",
        "df\n"
      ],
      "metadata": {
        "colab": {
          "base_uri": "https://localhost:8080/"
        },
        "id": "AP0jsOtWQQ6L",
        "outputId": "f0ddcbec-80c8-4291-b4e8-41607750c640"
      },
      "execution_count": null,
      "outputs": [
        {
          "output_type": "stream",
          "name": "stdout",
          "text": [
            "Name                   0\n",
            "Department             1\n",
            "Years of Experience    2\n",
            "dtype: int64\n"
          ]
        },
        {
          "output_type": "execute_result",
          "data": {
            "text/plain": [
              "      Name Department  Years of Experience\n",
              "0    Alice         HR                  5.0\n",
              "1      Bob         IT                  6.5\n",
              "2  Charlie    Finance                  8.0\n",
              "4      Eva  Marketing                  6.5"
            ],
            "text/html": [
              "\n",
              "  <div id=\"df-b2bdce1f-3b71-4895-a515-247b7f5e6ff0\" class=\"colab-df-container\">\n",
              "    <div>\n",
              "<style scoped>\n",
              "    .dataframe tbody tr th:only-of-type {\n",
              "        vertical-align: middle;\n",
              "    }\n",
              "\n",
              "    .dataframe tbody tr th {\n",
              "        vertical-align: top;\n",
              "    }\n",
              "\n",
              "    .dataframe thead th {\n",
              "        text-align: right;\n",
              "    }\n",
              "</style>\n",
              "<table border=\"1\" class=\"dataframe\">\n",
              "  <thead>\n",
              "    <tr style=\"text-align: right;\">\n",
              "      <th></th>\n",
              "      <th>Name</th>\n",
              "      <th>Department</th>\n",
              "      <th>Years of Experience</th>\n",
              "    </tr>\n",
              "  </thead>\n",
              "  <tbody>\n",
              "    <tr>\n",
              "      <th>0</th>\n",
              "      <td>Alice</td>\n",
              "      <td>HR</td>\n",
              "      <td>5.0</td>\n",
              "    </tr>\n",
              "    <tr>\n",
              "      <th>1</th>\n",
              "      <td>Bob</td>\n",
              "      <td>IT</td>\n",
              "      <td>6.5</td>\n",
              "    </tr>\n",
              "    <tr>\n",
              "      <th>2</th>\n",
              "      <td>Charlie</td>\n",
              "      <td>Finance</td>\n",
              "      <td>8.0</td>\n",
              "    </tr>\n",
              "    <tr>\n",
              "      <th>4</th>\n",
              "      <td>Eva</td>\n",
              "      <td>Marketing</td>\n",
              "      <td>6.5</td>\n",
              "    </tr>\n",
              "  </tbody>\n",
              "</table>\n",
              "</div>\n",
              "    <div class=\"colab-df-buttons\">\n",
              "\n",
              "  <div class=\"colab-df-container\">\n",
              "    <button class=\"colab-df-convert\" onclick=\"convertToInteractive('df-b2bdce1f-3b71-4895-a515-247b7f5e6ff0')\"\n",
              "            title=\"Convert this dataframe to an interactive table.\"\n",
              "            style=\"display:none;\">\n",
              "\n",
              "  <svg xmlns=\"http://www.w3.org/2000/svg\" height=\"24px\" viewBox=\"0 -960 960 960\">\n",
              "    <path d=\"M120-120v-720h720v720H120Zm60-500h600v-160H180v160Zm220 220h160v-160H400v160Zm0 220h160v-160H400v160ZM180-400h160v-160H180v160Zm440 0h160v-160H620v160ZM180-180h160v-160H180v160Zm440 0h160v-160H620v160Z\"/>\n",
              "  </svg>\n",
              "    </button>\n",
              "\n",
              "  <style>\n",
              "    .colab-df-container {\n",
              "      display:flex;\n",
              "      gap: 12px;\n",
              "    }\n",
              "\n",
              "    .colab-df-convert {\n",
              "      background-color: #E8F0FE;\n",
              "      border: none;\n",
              "      border-radius: 50%;\n",
              "      cursor: pointer;\n",
              "      display: none;\n",
              "      fill: #1967D2;\n",
              "      height: 32px;\n",
              "      padding: 0 0 0 0;\n",
              "      width: 32px;\n",
              "    }\n",
              "\n",
              "    .colab-df-convert:hover {\n",
              "      background-color: #E2EBFA;\n",
              "      box-shadow: 0px 1px 2px rgba(60, 64, 67, 0.3), 0px 1px 3px 1px rgba(60, 64, 67, 0.15);\n",
              "      fill: #174EA6;\n",
              "    }\n",
              "\n",
              "    .colab-df-buttons div {\n",
              "      margin-bottom: 4px;\n",
              "    }\n",
              "\n",
              "    [theme=dark] .colab-df-convert {\n",
              "      background-color: #3B4455;\n",
              "      fill: #D2E3FC;\n",
              "    }\n",
              "\n",
              "    [theme=dark] .colab-df-convert:hover {\n",
              "      background-color: #434B5C;\n",
              "      box-shadow: 0px 1px 3px 1px rgba(0, 0, 0, 0.15);\n",
              "      filter: drop-shadow(0px 1px 2px rgba(0, 0, 0, 0.3));\n",
              "      fill: #FFFFFF;\n",
              "    }\n",
              "  </style>\n",
              "\n",
              "    <script>\n",
              "      const buttonEl =\n",
              "        document.querySelector('#df-b2bdce1f-3b71-4895-a515-247b7f5e6ff0 button.colab-df-convert');\n",
              "      buttonEl.style.display =\n",
              "        google.colab.kernel.accessAllowed ? 'block' : 'none';\n",
              "\n",
              "      async function convertToInteractive(key) {\n",
              "        const element = document.querySelector('#df-b2bdce1f-3b71-4895-a515-247b7f5e6ff0');\n",
              "        const dataTable =\n",
              "          await google.colab.kernel.invokeFunction('convertToInteractive',\n",
              "                                                    [key], {});\n",
              "        if (!dataTable) return;\n",
              "\n",
              "        const docLinkHtml = 'Like what you see? Visit the ' +\n",
              "          '<a target=\"_blank\" href=https://colab.research.google.com/notebooks/data_table.ipynb>data table notebook</a>'\n",
              "          + ' to learn more about interactive tables.';\n",
              "        element.innerHTML = '';\n",
              "        dataTable['output_type'] = 'display_data';\n",
              "        await google.colab.output.renderOutput(dataTable, element);\n",
              "        const docLink = document.createElement('div');\n",
              "        docLink.innerHTML = docLinkHtml;\n",
              "        element.appendChild(docLink);\n",
              "      }\n",
              "    </script>\n",
              "  </div>\n",
              "\n",
              "\n",
              "<div id=\"df-a1919b8b-29a4-4fce-9cad-34f6eeb6d366\">\n",
              "  <button class=\"colab-df-quickchart\" onclick=\"quickchart('df-a1919b8b-29a4-4fce-9cad-34f6eeb6d366')\"\n",
              "            title=\"Suggest charts\"\n",
              "            style=\"display:none;\">\n",
              "\n",
              "<svg xmlns=\"http://www.w3.org/2000/svg\" height=\"24px\"viewBox=\"0 0 24 24\"\n",
              "     width=\"24px\">\n",
              "    <g>\n",
              "        <path d=\"M19 3H5c-1.1 0-2 .9-2 2v14c0 1.1.9 2 2 2h14c1.1 0 2-.9 2-2V5c0-1.1-.9-2-2-2zM9 17H7v-7h2v7zm4 0h-2V7h2v10zm4 0h-2v-4h2v4z\"/>\n",
              "    </g>\n",
              "</svg>\n",
              "  </button>\n",
              "\n",
              "<style>\n",
              "  .colab-df-quickchart {\n",
              "      --bg-color: #E8F0FE;\n",
              "      --fill-color: #1967D2;\n",
              "      --hover-bg-color: #E2EBFA;\n",
              "      --hover-fill-color: #174EA6;\n",
              "      --disabled-fill-color: #AAA;\n",
              "      --disabled-bg-color: #DDD;\n",
              "  }\n",
              "\n",
              "  [theme=dark] .colab-df-quickchart {\n",
              "      --bg-color: #3B4455;\n",
              "      --fill-color: #D2E3FC;\n",
              "      --hover-bg-color: #434B5C;\n",
              "      --hover-fill-color: #FFFFFF;\n",
              "      --disabled-bg-color: #3B4455;\n",
              "      --disabled-fill-color: #666;\n",
              "  }\n",
              "\n",
              "  .colab-df-quickchart {\n",
              "    background-color: var(--bg-color);\n",
              "    border: none;\n",
              "    border-radius: 50%;\n",
              "    cursor: pointer;\n",
              "    display: none;\n",
              "    fill: var(--fill-color);\n",
              "    height: 32px;\n",
              "    padding: 0;\n",
              "    width: 32px;\n",
              "  }\n",
              "\n",
              "  .colab-df-quickchart:hover {\n",
              "    background-color: var(--hover-bg-color);\n",
              "    box-shadow: 0 1px 2px rgba(60, 64, 67, 0.3), 0 1px 3px 1px rgba(60, 64, 67, 0.15);\n",
              "    fill: var(--button-hover-fill-color);\n",
              "  }\n",
              "\n",
              "  .colab-df-quickchart-complete:disabled,\n",
              "  .colab-df-quickchart-complete:disabled:hover {\n",
              "    background-color: var(--disabled-bg-color);\n",
              "    fill: var(--disabled-fill-color);\n",
              "    box-shadow: none;\n",
              "  }\n",
              "\n",
              "  .colab-df-spinner {\n",
              "    border: 2px solid var(--fill-color);\n",
              "    border-color: transparent;\n",
              "    border-bottom-color: var(--fill-color);\n",
              "    animation:\n",
              "      spin 1s steps(1) infinite;\n",
              "  }\n",
              "\n",
              "  @keyframes spin {\n",
              "    0% {\n",
              "      border-color: transparent;\n",
              "      border-bottom-color: var(--fill-color);\n",
              "      border-left-color: var(--fill-color);\n",
              "    }\n",
              "    20% {\n",
              "      border-color: transparent;\n",
              "      border-left-color: var(--fill-color);\n",
              "      border-top-color: var(--fill-color);\n",
              "    }\n",
              "    30% {\n",
              "      border-color: transparent;\n",
              "      border-left-color: var(--fill-color);\n",
              "      border-top-color: var(--fill-color);\n",
              "      border-right-color: var(--fill-color);\n",
              "    }\n",
              "    40% {\n",
              "      border-color: transparent;\n",
              "      border-right-color: var(--fill-color);\n",
              "      border-top-color: var(--fill-color);\n",
              "    }\n",
              "    60% {\n",
              "      border-color: transparent;\n",
              "      border-right-color: var(--fill-color);\n",
              "    }\n",
              "    80% {\n",
              "      border-color: transparent;\n",
              "      border-right-color: var(--fill-color);\n",
              "      border-bottom-color: var(--fill-color);\n",
              "    }\n",
              "    90% {\n",
              "      border-color: transparent;\n",
              "      border-bottom-color: var(--fill-color);\n",
              "    }\n",
              "  }\n",
              "</style>\n",
              "\n",
              "  <script>\n",
              "    async function quickchart(key) {\n",
              "      const quickchartButtonEl =\n",
              "        document.querySelector('#' + key + ' button');\n",
              "      quickchartButtonEl.disabled = true;  // To prevent multiple clicks.\n",
              "      quickchartButtonEl.classList.add('colab-df-spinner');\n",
              "      try {\n",
              "        const charts = await google.colab.kernel.invokeFunction(\n",
              "            'suggestCharts', [key], {});\n",
              "      } catch (error) {\n",
              "        console.error('Error during call to suggestCharts:', error);\n",
              "      }\n",
              "      quickchartButtonEl.classList.remove('colab-df-spinner');\n",
              "      quickchartButtonEl.classList.add('colab-df-quickchart-complete');\n",
              "    }\n",
              "    (() => {\n",
              "      let quickchartButtonEl =\n",
              "        document.querySelector('#df-a1919b8b-29a4-4fce-9cad-34f6eeb6d366 button');\n",
              "      quickchartButtonEl.style.display =\n",
              "        google.colab.kernel.accessAllowed ? 'block' : 'none';\n",
              "    })();\n",
              "  </script>\n",
              "</div>\n",
              "\n",
              "  <div id=\"id_5c390977-125b-41a9-a303-8239821fb2bf\">\n",
              "    <style>\n",
              "      .colab-df-generate {\n",
              "        background-color: #E8F0FE;\n",
              "        border: none;\n",
              "        border-radius: 50%;\n",
              "        cursor: pointer;\n",
              "        display: none;\n",
              "        fill: #1967D2;\n",
              "        height: 32px;\n",
              "        padding: 0 0 0 0;\n",
              "        width: 32px;\n",
              "      }\n",
              "\n",
              "      .colab-df-generate:hover {\n",
              "        background-color: #E2EBFA;\n",
              "        box-shadow: 0px 1px 2px rgba(60, 64, 67, 0.3), 0px 1px 3px 1px rgba(60, 64, 67, 0.15);\n",
              "        fill: #174EA6;\n",
              "      }\n",
              "\n",
              "      [theme=dark] .colab-df-generate {\n",
              "        background-color: #3B4455;\n",
              "        fill: #D2E3FC;\n",
              "      }\n",
              "\n",
              "      [theme=dark] .colab-df-generate:hover {\n",
              "        background-color: #434B5C;\n",
              "        box-shadow: 0px 1px 3px 1px rgba(0, 0, 0, 0.15);\n",
              "        filter: drop-shadow(0px 1px 2px rgba(0, 0, 0, 0.3));\n",
              "        fill: #FFFFFF;\n",
              "      }\n",
              "    </style>\n",
              "    <button class=\"colab-df-generate\" onclick=\"generateWithVariable('df')\"\n",
              "            title=\"Generate code using this dataframe.\"\n",
              "            style=\"display:none;\">\n",
              "\n",
              "  <svg xmlns=\"http://www.w3.org/2000/svg\" height=\"24px\"viewBox=\"0 0 24 24\"\n",
              "       width=\"24px\">\n",
              "    <path d=\"M7,19H8.4L18.45,9,17,7.55,7,17.6ZM5,21V16.75L18.45,3.32a2,2,0,0,1,2.83,0l1.4,1.43a1.91,1.91,0,0,1,.58,1.4,1.91,1.91,0,0,1-.58,1.4L9.25,21ZM18.45,9,17,7.55Zm-12,3A5.31,5.31,0,0,0,4.9,8.1,5.31,5.31,0,0,0,1,6.5,5.31,5.31,0,0,0,4.9,4.9,5.31,5.31,0,0,0,6.5,1,5.31,5.31,0,0,0,8.1,4.9,5.31,5.31,0,0,0,12,6.5,5.46,5.46,0,0,0,6.5,12Z\"/>\n",
              "  </svg>\n",
              "    </button>\n",
              "    <script>\n",
              "      (() => {\n",
              "      const buttonEl =\n",
              "        document.querySelector('#id_5c390977-125b-41a9-a303-8239821fb2bf button.colab-df-generate');\n",
              "      buttonEl.style.display =\n",
              "        google.colab.kernel.accessAllowed ? 'block' : 'none';\n",
              "\n",
              "      buttonEl.onclick = () => {\n",
              "        google.colab.notebook.generateWithVariable('df');\n",
              "      }\n",
              "      })();\n",
              "    </script>\n",
              "  </div>\n",
              "\n",
              "    </div>\n",
              "  </div>\n"
            ],
            "application/vnd.google.colaboratory.intrinsic+json": {
              "type": "dataframe",
              "variable_name": "df",
              "summary": "{\n  \"name\": \"df\",\n  \"rows\": 4,\n  \"fields\": [\n    {\n      \"column\": \"Name\",\n      \"properties\": {\n        \"dtype\": \"string\",\n        \"num_unique_values\": 4,\n        \"samples\": [\n          \"Bob\",\n          \"Eva\",\n          \"Alice\"\n        ],\n        \"semantic_type\": \"\",\n        \"description\": \"\"\n      }\n    },\n    {\n      \"column\": \"Department\",\n      \"properties\": {\n        \"dtype\": \"string\",\n        \"num_unique_values\": 4,\n        \"samples\": [\n          \"IT\",\n          \"Marketing\",\n          \"HR\"\n        ],\n        \"semantic_type\": \"\",\n        \"description\": \"\"\n      }\n    },\n    {\n      \"column\": \"Years of Experience\",\n      \"properties\": {\n        \"dtype\": \"number\",\n        \"std\": 1.224744871391589,\n        \"min\": 5.0,\n        \"max\": 8.0,\n        \"num_unique_values\": 3,\n        \"samples\": [\n          5.0,\n          6.5,\n          8.0\n        ],\n        \"semantic_type\": \"\",\n        \"description\": \"\"\n      }\n    }\n  ]\n}"
            }
          },
          "metadata": {},
          "execution_count": 177
        }
      ]
    },
    {
      "cell_type": "markdown",
      "source": [
        "#Question 8\n",
        "\n",
        "  You are working with a dataset of product information where some entries are missing. The data includes 'Product Name,' 'Price,' and 'Discount' percentage. Some products do not have a 'Price' listed, and some are missing the 'Discount' percentage. The data is given below:\n",
        "\n",
        "\n",
        "\n",
        "```\n",
        "import pandas as pd\n",
        "# Product data with missing values\n",
        "data = {\n",
        "    'Product Name': ['Pen', 'Notebook', 'Eraser', 'Marker', 'Highlighter'],\n",
        "    'Price': [1.5, None, 0.5, 1.2, None],\n",
        "    'Discount': [10, 5, None, 15, None]\n",
        "}\n",
        "products_df = pd.DataFrame(data)\n",
        "\n",
        "\n",
        "```\n",
        "\n",
        "\n",
        "\n",
        "  1. Detect and display the count of missing values in each column.\n",
        "\n",
        "  2. Use an appropriate method to fill in the missing 'Price' values with a constant value of 1.0.\n",
        "\n",
        "  3. Fill in the missing 'Discount' values with the median discount from the available data.\n"
      ],
      "metadata": {
        "id": "StbBXnttS3WC"
      }
    },
    {
      "cell_type": "code",
      "source": [
        "data = {\n",
        "    'Product Name': ['Pen', 'Notebook', 'Eraser', 'Marker', 'Highlighter'],\n",
        "    'Price': [1.5, None, 0.5, 1.2, None],\n",
        "    'Discount': [10, 5, None, 15, None]\n",
        "}\n",
        "df = pd.DataFrame(data)\n",
        "\n",
        "#1\n",
        "print(df.isnull().sum())\n",
        "\n",
        "#2\n",
        "df['Price'] = df['Price'].fillna(1.0)\n",
        "\n",
        "#3\n",
        "df['Discount'] = df['Discount'].fillna(df['Discount'].median())\n"
      ],
      "metadata": {
        "colab": {
          "base_uri": "https://localhost:8080/"
        },
        "id": "SI2YBKzXTCaS",
        "outputId": "499d3bda-6ebf-4fef-8da8-b512d698c790"
      },
      "execution_count": null,
      "outputs": [
        {
          "output_type": "stream",
          "name": "stdout",
          "text": [
            "Product Name    0\n",
            "Price           2\n",
            "Discount        2\n",
            "dtype: int64\n"
          ]
        }
      ]
    },
    {
      "cell_type": "markdown",
      "source": [
        "#Question 9\n",
        "\n",
        "  You have been given data about a small grocery store's sales figures across different categories. The data shows the number of units sold per item category, average unit price, and customer ratings. Use this data to create visualizations that represent various aspects of the sales and customer ratings.\n",
        "\n",
        "\n",
        "```\n",
        "# Sales data\n",
        "categories = ['Fruits', 'Vegetables', 'Dairy', 'Bakery', 'Snacks']\n",
        "units_sold = [120, 200, 150, 90, 130]\n",
        "avg_price = [2.5, 1.5, 2.0, 1.8, 3.0]  # in dollars\n",
        "customer_ratings = [4.5, 4.2, 4.0, 3.8, 4.1]\n",
        "```\n",
        "Using the data above, complete the following tasks:\n",
        "\n",
        "  1. **Bar Plot:** Plot a bar chart showing units sold for each category. Add a title, x-axis label (\"Categories\"), and y-axis label (\"Units Sold\"). Also, include a legend.\n",
        "\n",
        "  2.**Scatter Plot:** Create a scatter plot of units_sold (on the x-axis) vs. avg_price (on the y-axis). Add a title and labels for both axes.\n",
        "\n",
        "  3. **Histogram:** Plot a histogram of customer_ratings to see the distribution of ratings. Add a title and label the x-axis as \"Customer Ratings\" and the y-axis as \"Frequency\".\n",
        "\n",
        "  4. **Pie Chart:** Create a pie chart to show the percentage of units sold by category. Add a title and a legend showing the category names.\n",
        "\n",
        "  5. **Box Plot:** Plot a box plot to visualize the spread and central tendency of customer_ratings. Add a title.\n",
        "\n",
        "Use appropriate colors, and ensure each plot has a title and labeled axes (where applicable).\n",
        "\n"
      ],
      "metadata": {
        "id": "SHSOoBuLTyrs"
      }
    },
    {
      "cell_type": "code",
      "source": [
        "categories = ['Fruits', 'Vegetables', 'Dairy', 'Bakery', 'Snacks']\n",
        "units_sold = [120, 200, 150, 90, 130]\n",
        "avg_price = [2.5, 1.5, 2.0, 1.8, 3.0]  # in dollars\n",
        "customer_ratings = [4.5, 4.2, 4.0, 3.8, 4.1]"
      ],
      "metadata": {
        "id": "INavUkAJUIZZ"
      },
      "execution_count": null,
      "outputs": []
    },
    {
      "cell_type": "code",
      "source": [
        "Colors = ['skyblue', 'lightgreen', '#FFCC99', 'lightcoral', 'lightpink']"
      ],
      "metadata": {
        "id": "67cri758f5Ej"
      },
      "execution_count": null,
      "outputs": []
    },
    {
      "cell_type": "code",
      "source": [
        "#1\n",
        "bars = plt.bar(categories, units_sold, color=Colors)\n",
        "plt.title('Bar Plot')\n",
        "plt.xlabel('Categories')\n",
        "plt.ylabel('Units Sold')\n",
        "\n",
        "plt.legend(bars, categories)\n",
        "\n",
        "plt.show()"
      ],
      "metadata": {
        "colab": {
          "base_uri": "https://localhost:8080/",
          "height": 472
        },
        "id": "8NnDIE0ZZhbS",
        "outputId": "ca08a7ec-9c5a-4150-f3e5-621e622dfac5"
      },
      "execution_count": null,
      "outputs": [
        {
          "output_type": "display_data",
          "data": {
            "text/plain": [
              "<Figure size 640x480 with 1 Axes>"
            ],
            "image/png": "[encoded data removed]"
          },
          "metadata": {}
        }
      ]
    },
    {
      "cell_type": "code",
      "source": [
        "#2\n",
        "plt.scatter(units_sold, avg_price, color='red', marker='s')\n",
        "plt.title('Scatter Plot')\n",
        "plt.xlabel('Units Sold')\n",
        "plt.ylabel('Average Price')\n",
        "plt.show()"
      ],
      "metadata": {
        "colab": {
          "base_uri": "https://localhost:8080/",
          "height": 472
        },
        "id": "_SdCu3_PZdcy",
        "outputId": "01062c19-dda0-4dcd-eccb-4d1fe8185823"
      },
      "execution_count": null,
      "outputs": [
        {
          "output_type": "display_data",
          "data": {
            "text/plain": [
              "<Figure size 640x480 with 1 Axes>"
            ],
            "image/png": "[encoded data removed]"
          },
          "metadata": {}
        }
      ]
    },
    {
      "cell_type": "code",
      "source": [
        "#3\n",
        "plt.hist(customer_ratings, color='#F49097')\n",
        "plt.title('Histogram')\n",
        "plt.xlabel('Customer Ratings')\n",
        "plt.ylabel('Frequency')\n",
        "plt.show()"
      ],
      "metadata": {
        "colab": {
          "base_uri": "https://localhost:8080/",
          "height": 472
        },
        "id": "a_xh3eTEcevd",
        "outputId": "61051576-a107-495d-c99b-734fd8e708dd"
      },
      "execution_count": null,
      "outputs": [
        {
          "output_type": "display_data",
          "data": {
            "text/plain": [
              "<Figure size 640x480 with 1 Axes>"
            ],
            "image/png": "[encoded data removed]"
          },
          "metadata": {}
        }
      ]
    },
    {
      "cell_type": "code",
      "source": [
        "#4\n",
        "plt.pie(units_sold, labels=categories, autopct='%1.2f%%', colors = Colors)\n",
        "plt.title('Pie Chart')\n",
        "plt.show()"
      ],
      "metadata": {
        "colab": {
          "base_uri": "https://localhost:8080/",
          "height": 428
        },
        "id": "fL9dTbPUemaq",
        "outputId": "c3b4aa4b-97d6-4c2d-bde8-50b266d5e3e7"
      },
      "execution_count": null,
      "outputs": [
        {
          "output_type": "display_data",
          "data": {
            "text/plain": [
              "<Figure size 640x480 with 1 Axes>"
            ],
            "image/png": "[encoded data removed]"
          },
          "metadata": {}
        }
      ]
    },
    {
      "cell_type": "code",
      "source": [
        "#5\n",
        "plt.boxplot(customer_ratings, vert=False)\n",
        "plt.title('Box Plot')\n",
        "plt.show()\n"
      ],
      "metadata": {
        "colab": {
          "base_uri": "https://localhost:8080/",
          "height": 452
        },
        "id": "GdMmssdQgN6a",
        "outputId": "44837fed-695f-4794-d6e3-3087775725a1"
      },
      "execution_count": null,
      "outputs": [
        {
          "output_type": "display_data",
          "data": {
            "text/plain": [
              "<Figure size 640x480 with 1 Axes>"
            ],
            "image/png": "[encoded data removed]"
          },
          "metadata": {}
        }
      ]
    }
  ]
}