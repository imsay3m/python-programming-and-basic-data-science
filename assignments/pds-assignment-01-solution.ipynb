{
 "cells": [
  {
   "cell_type": "markdown",
   "metadata": {},
   "source": [
    "### 1. Write a Python program to find the factorial of a number using recursion."
   ]
  },
  {
   "cell_type": "code",
   "execution_count": 1,
   "metadata": {},
   "outputs": [
    {
     "name": "stdout",
     "output_type": "stream",
     "text": [
      "Factorial of 12 is 479001600\n"
     ]
    }
   ],
   "source": [
    "def factorial(n):\n",
    "    if n == 0 or n == 1:\n",
    "        return 1\n",
    "    else:\n",
    "        return n * factorial(n - 1)\n",
    "\n",
    "num = int(input(\"Enter a number: \"))\n",
    "print(\"Factorial of\", num, \"is\", factorial(num))"
   ]
  },
  {
   "cell_type": "markdown",
   "metadata": {},
   "source": [
    "### 2. Write a Python program to find Anagram Check. "
   ]
  },
  {
   "cell_type": "code",
   "execution_count": 1,
   "metadata": {},
   "outputs": [
    {
     "name": "stdout",
     "output_type": "stream",
     "text": [
      "Anagram: True\n"
     ]
    }
   ],
   "source": [
    "def is_anagram(str1, str2):\n",
    "    return sorted(str1) == sorted(str2)\n",
    "\n",
    "\n",
    "str1 = input(\"Enter first string: \")\n",
    "str2 = input(\"Enter second string: \")\n",
    "print(\"Anagram:\", is_anagram(str1, str2))"
   ]
  },
  {
   "cell_type": "markdown",
   "metadata": {},
   "source": [
    "### 3. Write a Python program using a for loop that:\n",
    "- Prints the multiplication table for a given number ‘n’.\n",
    "- Calculates the factorial of a given number."
   ]
  },
  {
   "cell_type": "code",
   "execution_count": null,
   "metadata": {},
   "outputs": [],
   "source": [
    "# i. Multiplication Table using a for loop\n",
    "def multiplication_table(n):\n",
    "    for i in range(1, 11):\n",
    "        print(f\"{n} x {i} = {n * i}\")\n",
    "\n",
    "\n",
    "# ii. Factorial using a for loop\n",
    "def factorial(n):\n",
    "    result = 1\n",
    "    for i in range(1, n + 1):\n",
    "        result *= i\n",
    "    return result\n",
    "\n",
    "\n",
    "num = int(input(\"Enter a number: \"))\n",
    "multiplication_table(num)\n",
    "print(\"Factorial of\", num, \"is\", factorial(num))"
   ]
  },
  {
   "cell_type": "markdown",
   "metadata": {},
   "source": [
    "### 4. You are given a list of positive integers containing all numbers from 1 to n except one missing value x. Write a Python program to find the missing value x in the list. "
   ]
  },
  {
   "cell_type": "code",
   "execution_count": 3,
   "metadata": {},
   "outputs": [
    {
     "name": "stdout",
     "output_type": "stream",
     "text": [
      "Missing value is: 4\n"
     ]
    }
   ],
   "source": [
    "list = [1, 2, 3, 5]  # Example list\n",
    "n = 5\n",
    "total_sum = n * (n + 1) // 2\n",
    "list_sum = sum(list)\n",
    "print(\"Missing value is:\", (total_sum-list_sum))"
   ]
  },
  {
   "cell_type": "markdown",
   "metadata": {},
   "source": [
    "### 5. Write a Python program to Count Words in a Sentence. "
   ]
  },
  {
   "cell_type": "code",
   "execution_count": 1,
   "metadata": {},
   "outputs": [
    {
     "name": "stdout",
     "output_type": "stream",
     "text": [
      "Number of words: 2\n"
     ]
    }
   ],
   "source": [
    "sentence = input(\"Enter a sentence: \")\n",
    "words = sentence.split()\n",
    "print(\"Number of words:\", len(words))"
   ]
  },
  {
   "cell_type": "markdown",
   "metadata": {},
   "source": [
    "### 6. Odd or Even and Fibonacci\n",
    "- Define a function check_odd_even(n) that takes n as input and checks if it is even or odd. \n",
    "- Define a function fibonacci(n) that takes n as input and prints the n-th Fibonacci number. "
   ]
  },
  {
   "cell_type": "code",
   "execution_count": 8,
   "metadata": {},
   "outputs": [
    {
     "name": "stdout",
     "output_type": "stream",
     "text": [
      "Odd/Even: Odd\n",
      "5th Fibonacci number: 5\n"
     ]
    }
   ],
   "source": [
    "# i. Check Odd or Even\n",
    "def check_odd_even(n):\n",
    "    return \"Even\" if n % 2 == 0 else \"Odd\"\n",
    "\n",
    "\n",
    "# ii. Fibonacci\n",
    "def fibonacci(n):\n",
    "    if n == 0:\n",
    "        return 0\n",
    "    if n == 1:\n",
    "        return 1\n",
    "    else:\n",
    "        return fibonacci(n-1) + fibonacci(n-2)\n",
    "\n",
    "\n",
    "num = int(input(\"Enter a number: \"))\n",
    "print(\"Odd/Even:\", check_odd_even(num))\n",
    "print(f\"{num}th Fibonacci number:\", fibonacci(num))"
   ]
  },
  {
   "cell_type": "markdown",
   "metadata": {},
   "source": [
    "### 7. Write a program using the ternary operator where,\n",
    "- Given an age, determine the category of the age (i.e., child, teenager, adult).\n",
    "- Check if a given number is positive, negative, or zero."
   ]
  },
  {
   "cell_type": "code",
   "execution_count": null,
   "metadata": {},
   "outputs": [],
   "source": [
    "# i. Age category\n",
    "age = int(input(\"Enter age: \"))\n",
    "category = \"Child\" if age < 13 else \"Teenager\" if age < 18 else \"Adult\"\n",
    "print(\"Category:\", category)\n",
    "\n",
    "# ii. Check Positive, Negative, Zero\n",
    "number = int(input(\"Enter a number: \"))\n",
    "result = \"Positive\" if number > 0 else \"Negative\" if number < 0 else \"Zero\"\n",
    "print(\"Number is:\", result)"
   ]
  },
  {
   "cell_type": "markdown",
   "metadata": {},
   "source": [
    "### 8. Given a dictionary of product prices:\n",
    "prices = { 'apple': 30, 'banana': 10, 'orange': 60, 'grape': 55, 'mango': 20}\n",
    "Write a Python program to\n",
    "- Change the pricing of a product.\n",
    "- Add a new product to the inventory with its price.\n",
    "- Determine and print whether each product is \"Expensive\" or \"Affordable\"."
   ]
  },
  {
   "cell_type": "code",
   "execution_count": 9,
   "metadata": {},
   "outputs": [
    {
     "name": "stdout",
     "output_type": "stream",
     "text": [
      "apple is Affordable\n",
      "banana is Affordable\n",
      "orange is Expensive\n",
      "grape is Expensive\n",
      "mango is Affordable\n",
      "pineapple is Affordable\n"
     ]
    }
   ],
   "source": [
    "prices = {\"apple\": 30, \"banana\": 10, \"orange\": 60, \"grape\": 55, \"mango\": 20}\n",
    "\n",
    "# i. Change Pricing\n",
    "prices[\"apple\"] = 35\n",
    "\n",
    "# ii. Add New Product\n",
    "prices[\"pineapple\"] = 50\n",
    "\n",
    "# iii. Expensive or Affordable\n",
    "for product, price in prices.items():\n",
    "    print(f\"{product} is {'Expensive' if price > 50 else 'Affordable'}\")"
   ]
  },
  {
   "cell_type": "markdown",
   "metadata": {},
   "source": [
    "### 9. Write a Python program to check if a given number is a perfect number. A perfect number is a positive integer that is equal to the sum of its proper divisors (excluding itself)."
   ]
  },
  {
   "cell_type": "code",
   "execution_count": 16,
   "metadata": {},
   "outputs": [
    {
     "name": "stdout",
     "output_type": "stream",
     "text": [
      "Perfect Number: True\n"
     ]
    }
   ],
   "source": [
    "def is_perfect(n):\n",
    "    l=[]\n",
    "    for i in range(1,n):\n",
    "        if n%i==0:\n",
    "            l.append(i)\n",
    "    return sum(l)==n\n",
    "    # return n == sum(i for i in range(1, n) if n % i == 0)\n",
    "\n",
    "\n",
    "num = int(input(\"Enter a number: \"))\n",
    "print(\"Perfect Number:\", is_perfect(num))"
   ]
  },
  {
   "cell_type": "markdown",
   "metadata": {},
   "source": [
    "### 10. Write a Python program to find the maximum difference between two elements in a given list.\n"
   ]
  },
  {
   "cell_type": "code",
   "execution_count": null,
   "metadata": {},
   "outputs": [],
   "source": [
    "def max_difference(arr):\n",
    "    return max(arr) - min(arr)\n",
    "\n",
    "\n",
    "arr = [10, 3, 5, 6, 9]\n",
    "print(\"Maximum Difference:\", max_difference(arr))"
   ]
  },
  {
   "cell_type": "markdown",
   "metadata": {},
   "source": [
    "### 11. Write a Python program using list comprehension to create a new list that contains the squares of the numbers that are divisible by 3 but not by 5. Then, print the resulting list."
   ]
  },
  {
   "cell_type": "code",
   "execution_count": null,
   "metadata": {},
   "outputs": [],
   "source": [
    "numbers = [i for i in range(1, 101) if i % 3 == 0 and i % 5 != 0]\n",
    "squares = [i**2 for i in numbers]\n",
    "print(\"Resulting list:\", squares)"
   ]
  },
  {
   "cell_type": "markdown",
   "metadata": {},
   "source": [
    "### 12. Write Python code for the following tasks:\n",
    "- Create a 3x3 NumPy array filled with random integers. Compute the mean of all the elements in the array and print it.\n",
    "- Create a 2D NumPy array with shape (4,4). Split the array into 2 equal- sized horizontal\n",
    "slices."
   ]
  },
  {
   "cell_type": "code",
   "execution_count": null,
   "metadata": {},
   "outputs": [],
   "source": [
    "import numpy as np\n",
    "\n",
    "# i. Create a 3x3 NumPy array filled with random integers and compute the mean\n",
    "arr = np.random.randint(1, 101, size=(3, 3))\n",
    "print(\"Array:\\n\", arr)\n",
    "print(\"Mean of all elements:\", arr.mean())\n",
    "\n",
    "# ii. Create a 2D array with shape (4, 4) and split it into 2 equal-sized horizontal slices\n",
    "arr_2d = np.arange(16).reshape(4, 4)\n",
    "slices = np.split(arr_2d, 2, axis=1)\n",
    "print(\"2D Array:\\n\", arr_2d)\n",
    "print(\"Sliced arrays:\", slices)"
   ]
  },
  {
   "cell_type": "markdown",
   "metadata": {},
   "source": [
    "### 13. Define a function factorial(n) that takes an integer n as input and returns the factorial of n"
   ]
  },
  {
   "cell_type": "code",
   "execution_count": null,
   "metadata": {},
   "outputs": [],
   "source": [
    "def factorial(n):\n",
    "    if n == 0:\n",
    "        return 1\n",
    "    result = 1\n",
    "    for i in range(1, n + 1):\n",
    "        result *= i\n",
    "    return result\n",
    "\n",
    "\n",
    "num = int(input(\"Enter a number: \"))\n",
    "print(\"Factorial of\", num, \"is\", factorial(num))"
   ]
  },
  {
   "cell_type": "markdown",
   "metadata": {},
   "source": [
    "### 14. You are provided with the following Python code that is supposed to compute the sum of all positive integers up to a given number n. However, the code has an error that prevents it from running correctly.\n",
    "\n",
    "```python\n",
    "def sum_up_to(n):\n",
    "    total = 0\n",
    "for i in range(n):\n",
    "    total += i\n",
    "    return total\n",
    "print(sum_up_to(5))\n",
    "```\n",
    "\n",
    "Your task is to:\n",
    "- Use `%xmode` to display detailed error messages.\n",
    "- Debug and correct the code accordingly.\n",
    "- Provide a brief explanation of the error and your fix using Python Comments."
   ]
  },
  {
   "cell_type": "code",
   "execution_count": 17,
   "metadata": {},
   "outputs": [
    {
     "name": "stdout",
     "output_type": "stream",
     "text": [
      "15\n"
     ]
    }
   ],
   "source": [
    "# Error: range(n) does not include 'n'. It should be range(1, n+1)\n",
    "def sum_up_to(n):\n",
    "    total = 0\n",
    "    for i in range(1, n):  # Fix: loop should include 'n'\n",
    "        total += i\n",
    "    return total\n",
    "\n",
    "\n",
    "print(sum_up_to(5))  # Correct output: 15"
   ]
  },
  {
   "cell_type": "markdown",
   "metadata": {},
   "source": [
    "### 15. Write a Python function that generates a list of numbers from 1 to n (inclusive) and returns a new list where each number is replaced by its classification:\n",
    "- \"Even\" if the number is even.\n",
    "- \"Odd\" if the number is odd.\n",
    "- \"Multiple of 2\" if the number is a multiple of 2.\n",
    "- \"Even and Multiple of 5\" if the number is both even and a multiple of 5"
   ]
  },
  {
   "cell_type": "code",
   "execution_count": 20,
   "metadata": {},
   "outputs": [
    {
     "name": "stdout",
     "output_type": "stream",
     "text": [
      "['Odd', 'Multiple of 2', 'Odd', 'Multiple of 2', 'Odd']\n"
     ]
    }
   ],
   "source": [
    "n = int(input(\"Enter a number: \"))\n",
    "result = []\n",
    "for i in range(1, n + 1):\n",
    "    if i % 10 == 0:\n",
    "        result.append(\"Even and Multiple of 5\")\n",
    "    elif i % 2 == 0:\n",
    "        result.append(\"Multiple of 2\")\n",
    "    else:\n",
    "        result.append(\"Odd\")\n",
    "print(result)"
   ]
  },
  {
   "cell_type": "markdown",
   "metadata": {},
   "source": [
    "### 16. Write a Python function that performs the following operations on a given list of mixed data types:\n",
    "- Convert all elements of the list to strings.\n",
    "- Convert the list into a tuple.\n",
    "- Create a dictionary where the keys are the indices of the tuple elements and the values are the corresponding elements.\n",
    "> Instructions: Implement the function to perform these tasks. Your function should return the list of strings, tuple and dictionary.\n",
    "\n",
    ">Test your function with a sample list: [1, 4.56, \"Python\",False]."
   ]
  },
  {
   "cell_type": "code",
   "execution_count": null,
   "metadata": {},
   "outputs": [],
   "source": [
    "def process_list(lst):\n",
    "    str_list = [str(i) for i in lst]\n",
    "    tuple_list = tuple(str_list)\n",
    "    dict_list = {i: value for i, value in enumerate(tuple_list)}\n",
    "    return str_list, tuple_list, dict_list\n",
    "\n",
    "\n",
    "sample_list = [1, 4.56, \"Python\", False]\n",
    "result = process_list(sample_list)\n",
    "print(\"List of strings:\", result[0])\n",
    "print(\"Tuple:\", result[1])\n",
    "print(\"Dictionary:\", result[2])"
   ]
  },
  {
   "cell_type": "markdown",
   "metadata": {},
   "source": [
    "### 17. Write Python code for the following tasks:\n",
    "> - Create a 4x5 array filled with 'Python'.\n",
    "> - Create a 3x3 array of random integers in the interval [5, 10).\n",
    "> - You have a 4x3 NumPy array. Use the reshape method to change its shape to 3x4.\n",
    "> - Create a 2D NumPy array with shape (3, 3). Split this array into 2 equal-sized vertical slices.\n",
    "\n",
    "> - Given two NumPy arrays, a = np.array([4, 5, 6]) and b = np.array([7,8,9]), perform the following operations and provide the results:\n",
    ">> Element-wise: addition of a and b, subtraction of a from b, multiplication of a and b and\n",
    "division of b by a."
   ]
  },
  {
   "cell_type": "code",
   "execution_count": null,
   "metadata": {},
   "outputs": [],
   "source": [
    "import numpy as np\n",
    "\n",
    "# i. 4x5 array filled with 'Python'\n",
    "arr1 = np.full((4, 5), \"Python\")\n",
    "print(arr1)\n",
    "\n",
    "# ii. 3x3 array of random integers in [5, 10)\n",
    "arr2 = np.random.randint(5, 10, (3, 3))\n",
    "print(arr2)\n",
    "\n",
    "# iii. Reshape 4x3 array into 3x4\n",
    "arr3 = np.arange(12).reshape(4, 3)\n",
    "reshaped = arr3.reshape(3, 4)\n",
    "print(\"Reshaped array:\\n\", reshaped)\n",
    "\n",
    "# iv. Split 3x3 array into 2 equal vertical slices\n",
    "arr4 = np.arange(9).reshape(3, 3)\n",
    "vertical_slices = np.hsplit(arr4, 3)\n",
    "print(\"Vertical slices:\", vertical_slices)\n",
    "\n",
    "# v. Element-wise operations\n",
    "a = np.array([4, 5, 6])\n",
    "b = np.array([7, 8, 9])\n",
    "print(\"Addition:\", a + b)\n",
    "print(\"Subtraction:\", b - a)\n",
    "print(\"Multiplication:\", a * b)\n",
    "print(\"Division:\", b / a)"
   ]
  },
  {
   "cell_type": "markdown",
   "metadata": {},
   "source": [
    "### 18. Given the following NumPy array:\n",
    "```python\n",
    "arr = np.array(\n",
    "[[3, 2, 4, 1],\n",
    "[6, 8, 5, 7],\n",
    "[11, 10, 12, 9]]\n",
    ")\n",
    "```\n",
    "Perform the following tasks:\n",
    "- Create a boolean mask to identify elements greater than 6. Use this mask to extract the elements from the array.\n",
    "- Extract the second and third rows from the array using fancy indexing.\n",
    "- Sort the entire array along the rows and print the sorted array."
   ]
  },
  {
   "cell_type": "code",
   "execution_count": null,
   "metadata": {},
   "outputs": [],
   "source": [
    "import numpy as np\n",
    "\n",
    "arr = np.array([[3, 2, 4, 1], [6, 8, 5, 7], [11, 10, 12, 9]])\n",
    "\n",
    "# i. Boolean mask for elements > 6\n",
    "mask = arr > 6\n",
    "print(\"Elements greater than 6:\", arr[mask])\n",
    "\n",
    "# ii. Extract second and third rows\n",
    "rows = arr[1:3]\n",
    "print(\"Second and third rows:\\n\", rows)\n",
    "\n",
    "# iii. Sort array along the rows\n",
    "sorted_arr = np.sort(arr, axis=1)\n",
    "print(\"Sorted array:\\n\", sorted_arr)"
   ]
  },
  {
   "cell_type": "markdown",
   "metadata": {},
   "source": [
    "### 19. \n",
    "- Write a program that will take user input of cost price and selling price and determine\n",
    "whether its a loss or a profit.\n",
    "- Write a program that will check whether the number is an Armstrong number or not.\n",
    "\n",
    "\n",
    "(The user will provide the integer input)"
   ]
  },
  {
   "cell_type": "code",
   "execution_count": null,
   "metadata": {},
   "outputs": [],
   "source": [
    "# i. Profit or Loss\n",
    "cost_price = float(input(\"Enter Cost Price: \"))\n",
    "selling_price = float(input(\"Enter Selling Price: \"))\n",
    "result = \"Profit\" if selling_price > cost_price else \"Loss\"\n",
    "print(result)\n",
    "\n",
    "\n",
    "# ii. Armstrong Number\n",
    "def is_armstrong(num):\n",
    "    digits = [int(digit) for digit in str(num)]\n",
    "    return sum([d ** len(digits) for d in digits]) == num\n",
    "\n",
    "\n",
    "num = int(input(\"Enter a number: \"))\n",
    "print(\"Armstrong Number:\", is_armstrong(num))"
   ]
  },
  {
   "cell_type": "markdown",
   "metadata": {},
   "source": [
    "### 20. List and Loop\n",
    "- Write a loop in Python that prints the numbers from 1 to 100.\n",
    "- How do you create a List in Python? Provide an example."
   ]
  },
  {
   "cell_type": "code",
   "execution_count": null,
   "metadata": {},
   "outputs": [],
   "source": [
    "# i. Loop to print numbers from 1 to 100\n",
    "for i in range(1, 101):\n",
    "    print(i)\n",
    "\n",
    "# ii. Creating a list in Python\n",
    "sample_list = [1, 2, 3, 4, 5]\n",
    "print(\"List:\", sample_list)"
   ]
  },
  {
   "cell_type": "markdown",
   "metadata": {},
   "source": [
    "### 21. Write a Python function that performs the following operations on a given list of integers:\n",
    "- Remove all duplicate elements from the list while preserving the order of the first\n",
    "occurrence of each element.\n",
    "- Sort the remaining elements in ascending order.\n",
    "- Create a new list where each element is the square of the elements from the sorted list."
   ]
  },
  {
   "cell_type": "code",
   "execution_count": null,
   "metadata": {},
   "outputs": [],
   "source": [
    "def process_integers(lst):\n",
    "    unique_lst = sorted(set(lst))\n",
    "    squared_lst = [i**2 for i in unique_lst]\n",
    "    return squared_lst\n",
    "\n",
    "\n",
    "lst = [5, 3, 8, 3, 5, 1, 9]\n",
    "print(\"Processed list:\", process_integers(lst))"
   ]
  },
  {
   "cell_type": "markdown",
   "metadata": {},
   "source": [
    "### 22. Write a function “min_max_range” that performs the following operations on a 2D NumPy array:\n",
    "- Find the minimum and maximum values in the entire array.\n",
    "- Find the minimum and maximum values for each row.\n",
    "- difference between maximum and minimum values for each row."
   ]
  },
  {
   "cell_type": "code",
   "execution_count": null,
   "metadata": {},
   "outputs": [],
   "source": [
    "import numpy as np\n",
    "\n",
    "\n",
    "def min_max_range(arr):\n",
    "    min_val = np.min(arr)\n",
    "    max_val = np.max(arr)\n",
    "    row_min = np.min(arr, axis=1)\n",
    "    row_max = np.max(arr, axis=1)\n",
    "    row_diff = row_max - row_min\n",
    "    return min_val, max_val, row_min, row_max, row_diff\n",
    "\n",
    "\n",
    "arr = np.random.randint(1, 100, (3, 4))\n",
    "print(min_max_range(arr))"
   ]
  },
  {
   "cell_type": "markdown",
   "metadata": {},
   "source": [
    "### 23. You are given a 2D NumPy array. Write a function “simple_indexing” that:\n",
    "- Extracts the element at position (0, 0) from the array.\n",
    "- Extracts the entire second row of the array.\n",
    "- Extracts the first two elements from the second row of the array"
   ]
  },
  {
   "cell_type": "code",
   "execution_count": null,
   "metadata": {},
   "outputs": [],
   "source": [
    "def simple_indexing(arr):\n",
    "    element_00 = arr[0, 0]\n",
    "    second_row = arr[1, :]\n",
    "    first_two_elements_second_row = arr[1, :2]\n",
    "    return element_00, second_row, first_two_elements_second_row\n",
    "\n",
    "\n",
    "arr = np.arange(12).reshape(3, 4)\n",
    "print(simple_indexing(arr))"
   ]
  },
  {
   "cell_type": "markdown",
   "metadata": {},
   "source": [
    "### 24. You are given a list of integers. Write a Python function process_list that performs the following operations:\n",
    "- Remove all duplicate integers from the list.\n",
    "- Sort the remaining integers in ascending order.\n",
    "- Replace each integer with its square."
   ]
  },
  {
   "cell_type": "code",
   "execution_count": null,
   "metadata": {},
   "outputs": [],
   "source": [
    "def process_list(lst):\n",
    "    lst = sorted(set(lst))\n",
    "    squared_list = [i**2 for i in lst]\n",
    "    return squared_list\n",
    "\n",
    "\n",
    "lst = [5, 3, 8, 3, 5, 1, 9]\n",
    "print(\"Processed list:\", process_list(lst))"
   ]
  },
  {
   "cell_type": "markdown",
   "metadata": {},
   "source": [
    "### 25. Write a Python program that asks the user(students) for their name, Id and age, then prints a greeting message."
   ]
  },
  {
   "cell_type": "code",
   "execution_count": null,
   "metadata": {},
   "outputs": [],
   "source": [
    "name = input(\"Enter your name: \")\n",
    "student_id = input(\"Enter your ID: \")\n",
    "age = int(input(\"Enter your age: \"))\n",
    "print(f\"Hello {name}, ID: {student_id}, Age: {age}. Welcome!\")"
   ]
  },
  {
   "cell_type": "markdown",
   "metadata": {},
   "source": [
    "### 28. Write a python program to calculate the sum of digits of a given number"
   ]
  },
  {
   "cell_type": "code",
   "execution_count": null,
   "metadata": {},
   "outputs": [],
   "source": [
    "num = int(input(\"Enter a number: \"))\n",
    "total = sum(int(digit) for digit in str(num))\n",
    "print(\"Sum of digits:\", total)"
   ]
  },
  {
   "cell_type": "markdown",
   "metadata": {},
   "source": [
    "### 30. Write a program that can create a new list from a given list where each item in the new list is square of the item of the old list."
   ]
  },
  {
   "cell_type": "code",
   "execution_count": null,
   "metadata": {},
   "outputs": [],
   "source": [
    "old_list = [1, 2, 3, 4, 5]\n",
    "new_list = [x**2 for x in old_list]\n",
    "print(\"New list:\", new_list)"
   ]
  },
  {
   "cell_type": "markdown",
   "metadata": {},
   "source": [
    "### 31. Write a python program that uses a for loop to iterate over a range of numbers. Start from 10 and decrease by 3 each time until you reach a number less than 0. For each number in the range, print whether it is a positive number or not."
   ]
  },
  {
   "cell_type": "code",
   "execution_count": null,
   "metadata": {},
   "outputs": [],
   "source": [
    "for i in range(10, -1, -3):\n",
    "    if i > 0:\n",
    "        print(f\"{i} is positive.\")\n",
    "    else:\n",
    "        print(f\"{i} is not positive.\")"
   ]
  },
  {
   "cell_type": "markdown",
   "metadata": {},
   "source": [
    "### 32. Write a python program to print the following pattern.\n",
    "```python\n",
    "1\n",
    "1 1\n",
    "1 1 1\n",
    "1 1 1 1\n",
    "1 1 1 1 1\n",
    "```"
   ]
  },
  {
   "cell_type": "code",
   "execution_count": null,
   "metadata": {},
   "outputs": [],
   "source": [
    "for i in range(4):\n",
    "    print(\"1 \" * (i + 1))"
   ]
  },
  {
   "cell_type": "markdown",
   "metadata": {},
   "source": [
    "### 36. Write a Python program that keeps on accepting a number from the user until the user enters ‘-1. Display the sum and average of all the numbers."
   ]
  },
  {
   "cell_type": "code",
   "execution_count": null,
   "metadata": {},
   "outputs": [],
   "source": [
    "total = 0\n",
    "count = 0\n",
    "while True:\n",
    "    num = int(input(\"Enter a number (-1 to stop): \"))\n",
    "    if num == -1:\n",
    "        break\n",
    "    total += num\n",
    "    count += 1\n",
    "if count > 0:\n",
    "    print(f\"Sum: {total}, Average: {total / count}\")\n",
    "else:\n",
    "    print(\"No numbers were entered.\")"
   ]
  },
  {
   "cell_type": "markdown",
   "metadata": {},
   "source": [
    "### 37. Write a Python program that reverses a given list without using the built-in reverse() method. Print the reversed list."
   ]
  },
  {
   "cell_type": "code",
   "execution_count": null,
   "metadata": {},
   "outputs": [],
   "source": [
    "lst = [1, 2, 3, 4, 5]\n",
    "reversed_list = lst[::-1]\n",
    "print(\"Reversed list:\", reversed_list)"
   ]
  },
  {
   "cell_type": "markdown",
   "metadata": {},
   "source": [
    "### 38. Write a Python program that finds and prints the common elements between two lists."
   ]
  },
  {
   "cell_type": "code",
   "execution_count": null,
   "metadata": {},
   "outputs": [],
   "source": [
    "list1 = [1, 2, 3, 4]\n",
    "list2 = [3, 4, 5, 6]\n",
    "common_elements = list(set(list1) & set(list2))\n",
    "print(\"Common elements:\", common_elements)"
   ]
  },
  {
   "cell_type": "markdown",
   "metadata": {},
   "source": [
    "### 39. Write a Python program that uses a loop to iterate over a range of numbers. The range should start from 0 and decrease by 2 each time until it reaches a number less than -10. For each number in the range, print whether it is an even number or an odd number"
   ]
  },
  {
   "cell_type": "code",
   "execution_count": null,
   "metadata": {},
   "outputs": [],
   "source": [
    "for i in range(0, -11, -2):\n",
    "    if i % 2 == 0:\n",
    "        print(f\"{i} is even.\")\n",
    "    else:\n",
    "        print(f\"{i} is odd.\")"
   ]
  },
  {
   "cell_type": "markdown",
   "metadata": {},
   "source": []
  },
  {
   "cell_type": "code",
   "execution_count": 5,
   "metadata": {},
   "outputs": [
    {
     "name": "stdout",
     "output_type": "stream",
     "text": [
      "False\n",
      "False\n",
      "False\n",
      "False\n",
      "True\n",
      "False\n",
      "lock Ho\n"
     ]
    }
   ],
   "source": [
    "x = \"introduction to Python\"\n",
    "movie = \"Inception\"\n",
    "book = \"Sherlock Holmes\"\n",
    "poem = \"the sun rises over the quiet town\"\n",
    "\n",
    "print(x.islower())\n",
    "print(x.isupper())\n",
    "print(movie.startswith(\"inception\"))\n",
    "print(movie.endswith(\"Journey\"))\n",
    "print(book.istitle())\n",
    "print(poem.istitle())\n",
    "print(book[-11:-4])"
   ]
  }
 ],
 "metadata": {
  "kernelspec": {
   "display_name": "Python 3",
   "language": "python",
   "name": "python3"
  },
  "language_info": {
   "codemirror_mode": {
    "name": "ipython",
    "version": 3
   },
   "file_extension": ".py",
   "mimetype": "text/x-python",
   "name": "python",
   "nbconvert_exporter": "python",
   "pygments_lexer": "ipython3",
   "version": "3.12.0"
  }
 },
 "nbformat": 4,
 "nbformat_minor": 2
}
