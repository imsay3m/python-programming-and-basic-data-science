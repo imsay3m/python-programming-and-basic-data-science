{
 "cells": [
  {
   "cell_type": "markdown",
   "metadata": {},
   "source": [
    "> 2.\n",
    ">>a)\n",
    ">>>i."
   ]
  },
  {
   "cell_type": "code",
   "execution_count": 1,
   "metadata": {},
   "outputs": [
    {
     "name": "stdout",
     "output_type": "stream",
     "text": [
      "Profit\n"
     ]
    }
   ],
   "source": [
    "# 2.a)i.\n",
    "\n",
    "cost_p=int(input(\"Enter the Cost Price\"))\n",
    "selling_p=int(input(\"Enter the Selling Price\"))\n",
    "print(\"Loss\" if cost_p>selling_p else \"Profit\")\n"
   ]
  },
  {
   "cell_type": "markdown",
   "metadata": {},
   "source": [
    "> 2.\n",
    ">>a)\n",
    ">>>ii."
   ]
  },
  {
   "cell_type": "code",
   "execution_count": 2,
   "metadata": {},
   "outputs": [
    {
     "name": "stdout",
     "output_type": "stream",
     "text": [
      "Armstrong Number\n"
     ]
    }
   ],
   "source": [
    "# 2.a)ii.\n",
    "\n",
    "num=int(input())\n",
    "l=[int(i) for i in str(num)]\n",
    "for i in range(len(l)):\n",
    "    l[i]=pow(l[i],3)\n",
    "\n",
    "print(\"Armstrong Number\" if sum(l)==num else \"Not Armstrong Number\")"
   ]
  },
  {
   "cell_type": "markdown",
   "metadata": {},
   "source": [
    ">2.\n",
    ">>b)\n",
    ">>>i."
   ]
  },
  {
   "cell_type": "code",
   "execution_count": 3,
   "metadata": {},
   "outputs": [
    {
     "name": "stdout",
     "output_type": "stream",
     "text": [
      "Missing number is 3\n"
     ]
    }
   ],
   "source": [
    "# 2.b)i.\n",
    "\n",
    "n=int(input(\"Enter the size of the list\"))\n",
    "l=input().split()\n",
    "l=[int(l[i]) for i in range(n-1)]\n",
    "total=n*(n+1)//2\n",
    "print(\"Missing number is\",total-sum(l))\n",
    "\n"
   ]
  },
  {
   "cell_type": "markdown",
   "metadata": {},
   "source": [
    ">2.\n",
    ">>b)\n",
    ">>>ii."
   ]
  },
  {
   "cell_type": "code",
   "execution_count": 4,
   "metadata": {},
   "outputs": [
    {
     "name": "stdout",
     "output_type": "stream",
     "text": [
      "1\n"
     ]
    }
   ],
   "source": [
    "# 2.b)ii.\n",
    "\n",
    "sen=input(\"Enter a sentence\")\n",
    "word=sen.split()\n",
    "print(len(word))\n"
   ]
  },
  {
   "cell_type": "markdown",
   "metadata": {},
   "source": [
    ">2.\n",
    ">>c)\n",
    ">>>i , ii ,iii"
   ]
  },
  {
   "cell_type": "code",
   "execution_count": 5,
   "metadata": {},
   "outputs": [
    {
     "name": "stdout",
     "output_type": "stream",
     "text": [
      "[1, 2, 3, 4, 5, 6]\n",
      "[1, 8, 27, 64, 125, 216]\n"
     ]
    }
   ],
   "source": [
    "# 2.c)i. and ii\n",
    "\n",
    "l=[1,3,2,5,3,3,3,4,5,4,6]\n",
    "l=list(set(l))\n",
    "print(l)\n",
    "\n",
    "# 2.c)iii.\n",
    "for i in range(len(l)):\n",
    "    l[i] = pow(l[i], 3)\n",
    "print(l)"
   ]
  },
  {
   "cell_type": "markdown",
   "metadata": {},
   "source": [
    ">2.\n",
    ">>d)\n",
    ">>>i ,ii"
   ]
  },
  {
   "cell_type": "code",
   "execution_count": 1,
   "metadata": {},
   "outputs": [
    {
     "name": "stdout",
     "output_type": "stream",
     "text": [
      "[[8 1 9]\n",
      " [1 6 4]\n",
      " [7 1 3]]\n",
      "Max: 9\n",
      "Min: 1\n",
      "1st row Min: 1\n",
      "2nd row Min: 1\n",
      "3rd row Min: 1\n",
      "---------------\n",
      "1st row Max: 9\n",
      "2nd row Max: 6\n",
      "3rd row Max: 7\n"
     ]
    }
   ],
   "source": [
    "# 2.d)i\n",
    "import numpy as np\n",
    "\n",
    "arr=np.random.randint(1,10,(3,3))\n",
    "print(arr)\n",
    "print(\"Max:\",np.max(arr))\n",
    "print(\"Min:\",np.min(arr))\n",
    "\n",
    "# 2.d)ii\n",
    "print(\"1st row Min:\", np.min(arr[0]))\n",
    "print(\"2nd row Min:\", np.min(arr[1]))\n",
    "print(\"3rd row Min:\", np.min(arr[2]))\n",
    "print(\"---------------\")\n",
    "print(\"1st row Max:\", np.max(arr[0]))\n",
    "print(\"2nd row Max:\", np.max(arr[1]))\n",
    "print(\"3rd row Max:\", np.max(arr[2]))\n",
    "\n"
   ]
  },
  {
   "cell_type": "markdown",
   "metadata": {},
   "source": [
    ">2.\n",
    ">>f)\n",
    ">>>i , ii ,iii"
   ]
  },
  {
   "cell_type": "code",
   "execution_count": null,
   "metadata": {},
   "outputs": [],
   "source": [
    "# 2.f)i. and ii\n",
    "\n",
    "l = [1, 3, 2, 5, 3, 3, 3, 4, 5, 4, 6]\n",
    "l = list(set(l))\n",
    "print(l)\n",
    "\n",
    "# 2.f)iii.\n",
    "for i in range(len(l)):\n",
    "    l[i] = pow(l[i], 3)\n",
    "print(l)"
   ]
  }
 ],
 "metadata": {
  "kernelspec": {
   "display_name": "Python 3",
   "language": "python",
   "name": "python3"
  },
  "language_info": {
   "codemirror_mode": {
    "name": "ipython",
    "version": 3
   },
   "file_extension": ".py",
   "mimetype": "text/x-python",
   "name": "python",
   "nbconvert_exporter": "python",
   "pygments_lexer": "ipython3",
   "version": "3.12.0"
  }
 },
 "nbformat": 4,
 "nbformat_minor": 2
}
