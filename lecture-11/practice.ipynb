{
 "cells": [
  {
   "cell_type": "markdown",
   "metadata": {},
   "source": []
  },
  {
   "cell_type": "code",
   "execution_count": 4,
   "metadata": {},
   "outputs": [
    {
     "data": {
      "text/plain": [
       "'pop.head()'"
      ]
     },
     "metadata": {},
     "output_type": "display_data"
    },
    {
     "data": {
      "text/plain": [
       "'areas.head()'"
      ]
     },
     "metadata": {},
     "output_type": "display_data"
    },
    {
     "data": {
      "text/plain": [
       "'abbrevs.head()'"
      ]
     },
     "metadata": {},
     "output_type": "display_data"
    }
   ],
   "source": [
    "import pandas as pd\n",
    "pop = pd.read_csv(\"data/state-population.csv\")\n",
    "areas = pd.read_csv(\"data/state-areas.csv\")\n",
    "abbrevs = pd.read_csv(\"data/state-abbrevs.csv\")\n",
    "\n",
    "display(\"pop.head()\", \"areas.head()\", \"abbrevs.head()\")"
   ]
  },
  {
   "cell_type": "code",
   "execution_count": 5,
   "metadata": {},
   "outputs": [
    {
     "name": "stdout",
     "output_type": "stream",
     "text": [
      "     state/region     ages  year  population    state\n",
      "0              AK    total  1990    553290.0   Alaska\n",
      "1              AK  under18  1990    177502.0   Alaska\n",
      "2              AK    total  1992    588736.0   Alaska\n",
      "3              AK  under18  1991    182180.0   Alaska\n",
      "4              AK  under18  1992    184878.0   Alaska\n",
      "...           ...      ...   ...         ...      ...\n",
      "2539           WY  under18  1993    137458.0  Wyoming\n",
      "2540           WY    total  1991    459260.0  Wyoming\n",
      "2541           WY  under18  1991    136720.0  Wyoming\n",
      "2542           WY  under18  1990    136078.0  Wyoming\n",
      "2543           WY    total  1990    453690.0  Wyoming\n",
      "\n",
      "[2544 rows x 5 columns]\n"
     ]
    },
    {
     "data": {
      "text/plain": [
       "state/region    False\n",
       "ages            False\n",
       "year            False\n",
       "population       True\n",
       "state            True\n",
       "dtype: bool"
      ]
     },
     "execution_count": 5,
     "metadata": {},
     "output_type": "execute_result"
    }
   ],
   "source": [
    "data=pd.merge(pop, abbrevs, left_on=\"state/region\", right_on=\"abbreviation\",how='outer').drop(\"abbreviation\",axis=1)\n",
    "print(data)\n",
    "# data.info()\n",
    "data.isnull().any()"
   ]
  },
  {
   "cell_type": "code",
   "execution_count": 3,
   "metadata": {},
   "outputs": [
    {
     "name": "stdout",
     "output_type": "stream",
     "text": [
      "     state/region     ages  year   population state\n",
      "1872           PR  under18  1990          NaN   NaN\n",
      "1873           PR    total  1990          NaN   NaN\n",
      "1874           PR    total  1991          NaN   NaN\n",
      "1875           PR  under18  1991          NaN   NaN\n",
      "1876           PR    total  1993          NaN   NaN\n",
      "...           ...      ...   ...          ...   ...\n",
      "2203          USA    total  2010  309326295.0   NaN\n",
      "2204          USA  under18  2011   73902222.0   NaN\n",
      "2205          USA    total  2011  311582564.0   NaN\n",
      "2206          USA  under18  2012   73708179.0   NaN\n",
      "2207          USA    total  2012  313873685.0   NaN\n",
      "\n",
      "[96 rows x 5 columns]\n"
     ]
    }
   ],
   "source": [
    "missing_state=data[data[\"state\"].isnull()]\n",
    "print(missing_state)"
   ]
  }
 ],
 "metadata": {
  "kernelspec": {
   "display_name": "Python 3",
   "language": "python",
   "name": "python3"
  },
  "language_info": {
   "codemirror_mode": {
    "name": "ipython",
    "version": 3
   },
   "file_extension": ".py",
   "mimetype": "text/x-python",
   "name": "python",
   "nbconvert_exporter": "python",
   "pygments_lexer": "ipython3",
   "version": "3.12.0"
  }
 },
 "nbformat": 4,
 "nbformat_minor": 2
}
