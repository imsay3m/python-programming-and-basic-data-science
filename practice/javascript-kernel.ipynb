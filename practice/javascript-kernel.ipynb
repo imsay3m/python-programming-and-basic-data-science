{
 "cells": [
  {
   "cell_type": "code",
   "execution_count": 2,
   "metadata": {},
   "outputs": [
    {
     "name": "stdout",
     "output_type": "stream",
     "text": [
      "The number is not 5\n"
     ]
    }
   ],
   "source": [
    "let a = prompt(\"Input a number\");\n",
    "a == 5 ? console.log(\"The number is 5\") : console.log(\"The number is not 5\");"
   ]
  },
  {
   "cell_type": "code",
   "execution_count": 1,
   "metadata": {},
   "outputs": [
    {
     "ename": "ReferenceError",
     "evalue": "require is not defined",
     "output_type": "error",
     "traceback": [
      "Stack trace:",
      "ReferenceError: require is not defined",
      "    at <anonymous>:1:45"
     ]
    }
   ],
   "source": [
    "const { v4: uuidv4 } = require(\"uuid\");\n",
    "uuidv4();\n"
   ]
  }
 ],
 "metadata": {
  "kernelspec": {
   "display_name": "Deno",
   "language": "typescript",
   "name": "deno"
  },
  "language_info": {
   "codemirror_mode": "typescript",
   "file_extension": ".ts",
   "mimetype": "text/x.typescript",
   "name": "typescript",
   "nbconvert_exporter": "script",
   "pygments_lexer": "typescript",
   "version": "5.6.2"
  }
 },
 "nbformat": 4,
 "nbformat_minor": 2
}
