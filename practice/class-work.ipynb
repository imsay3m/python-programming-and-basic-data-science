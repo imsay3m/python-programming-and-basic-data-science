{
 "cells": [
  {
   "cell_type": "code",
   "execution_count": 30,
   "metadata": {},
   "outputs": [
    {
     "name": "stdout",
     "output_type": "stream",
     "text": [
      "[[8 5 4]\n",
      " [3 6 4]\n",
      " [2 7 4]]\n",
      "1st Row MIN=4 MAX=8 MEAN=5.666666666666667\n",
      "2nd Row MIN=3 MAX=6 MEAN=4.333333333333333\n",
      "3rd Row MIN=2 MAX=6 MEAN=4.333333333333333\n",
      "Overall MIN=2 MAX=8\n"
     ]
    }
   ],
   "source": [
    "\"\"\"1. Make a 2D List and find out the mean, min, max for the single row also for the whole list\"\"\"\n",
    "\n",
    "\n",
    "import numpy as np\n",
    "l=np.random.randint(1,10,size=(3,3))\n",
    "print(l)\n",
    "\n",
    "first_row_mean=np.mean(l[0])\n",
    "first_row_min=np.min(l[0])\n",
    "first_row_max=np.max(l[0])\n",
    "print(f\"1st Row MIN={first_row_min} MAX={first_row_max} MEAN={first_row_mean}\")\n",
    "\n",
    "second_row_mean = np.mean(l[1])\n",
    "second_row_max=np.max(l[1])\n",
    "second_row_min=np.min(l[1])\n",
    "print(f\"2nd Row MIN={second_row_min} MAX={second_row_max} MEAN={second_row_mean}\")\n",
    "\n",
    "third_row_mean=np.mean(l[2])\n",
    "third_row_min=np.min(l[2])\n",
    "third_row_max=np.min(l[2])\n",
    "print(f\"3rd Row MIN={third_row_min} MAX={second_row_max} MEAN={third_row_mean}\")\n",
    "\n",
    "overall_min=np.min(l)\n",
    "overall_max=np.max(l)\n",
    "print(f\"Overall MIN={overall_min} MAX={overall_max}\")"
   ]
  },
  {
   "cell_type": "code",
   "execution_count": null,
   "metadata": {},
   "outputs": [],
   "source": [
    "\"\"\"1. Make a 2D List and find out the mean, min, max for the single row also for the whole list\"\"\"\n"
   ]
  },
  {
   "cell_type": "code",
   "execution_count": 31,
   "metadata": {},
   "outputs": [
    {
     "name": "stdout",
     "output_type": "stream",
     "text": [
      "2\n"
     ]
    }
   ],
   "source": [
    "\"\"\"2. take an input and print the factorial of that number\"\"\"\n",
    "from math import factorial\n",
    "\n",
    "\n",
    "x=int(input())\n",
    "print(factorial(x))\n",
    "\n"
   ]
  },
  {
   "cell_type": "code",
   "execution_count": 32,
   "metadata": {},
   "outputs": [
    {
     "name": "stdout",
     "output_type": "stream",
     "text": [
      "1\n",
      "2\n",
      "3\n",
      "4\n",
      "5\n",
      "6\n",
      "7\n",
      "8\n",
      "9\n",
      "10\n",
      "11\n",
      "12\n",
      "13\n",
      "14\n",
      "15\n",
      "16\n",
      "17\n",
      "18\n",
      "19\n",
      "20\n",
      "21\n",
      "22\n",
      "23\n",
      "24\n",
      "25\n",
      "26\n",
      "27\n",
      "28\n",
      "29\n",
      "30\n",
      "31\n",
      "32\n",
      "33\n",
      "34\n",
      "35\n",
      "36\n",
      "37\n",
      "38\n",
      "39\n",
      "40\n",
      "41\n",
      "42\n",
      "43\n",
      "44\n",
      "45\n",
      "46\n",
      "47\n",
      "48\n",
      "49\n",
      "50\n",
      "51\n",
      "52\n",
      "53\n",
      "54\n",
      "55\n",
      "56\n",
      "57\n",
      "58\n",
      "59\n",
      "60\n",
      "61\n",
      "62\n",
      "63\n",
      "64\n",
      "65\n",
      "66\n",
      "67\n",
      "68\n",
      "69\n",
      "70\n",
      "71\n",
      "72\n",
      "73\n",
      "74\n",
      "75\n",
      "76\n",
      "77\n",
      "78\n",
      "79\n",
      "80\n",
      "81\n",
      "82\n",
      "83\n",
      "84\n",
      "85\n",
      "86\n",
      "87\n",
      "88\n",
      "89\n",
      "90\n",
      "91\n",
      "92\n",
      "93\n",
      "94\n",
      "95\n",
      "96\n",
      "97\n",
      "98\n",
      "99\n",
      "100\n"
     ]
    }
   ],
   "source": [
    "\"\"\"3. 1 to 100 print using loop\"\"\"\n",
    "for i in range(100):\n",
    "    print(i + 1)"
   ]
  },
  {
   "cell_type": "code",
   "execution_count": 38,
   "metadata": {},
   "outputs": [
    {
     "name": "stdout",
     "output_type": "stream",
     "text": [
      "[ 1  4  9 25]\n"
     ]
    }
   ],
   "source": [
    "\"\"\"4. List Unique Value\"\"\"\n",
    "l=[1,2,5,3,1,5]\n",
    "l=np.unique(l)\n",
    "l=l*l\n",
    "print(l)\n",
    "# print(np.square(l))"
   ]
  }
 ],
 "metadata": {
  "kernelspec": {
   "display_name": "Python 3",
   "language": "python",
   "name": "python3"
  },
  "language_info": {
   "codemirror_mode": {
    "name": "ipython",
    "version": 3
   },
   "file_extension": ".py",
   "mimetype": "text/x-python",
   "name": "python",
   "nbconvert_exporter": "python",
   "pygments_lexer": "ipython3",
   "version": "3.12.0"
  }
 },
 "nbformat": 4,
 "nbformat_minor": 2
}
